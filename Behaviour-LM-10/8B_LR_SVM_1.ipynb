{
  "cells": [
    {
      "cell_type": "code",
      "execution_count": 1,
      "metadata": {
        "colab": {
          "base_uri": "https://localhost:8080/",
          "height": 17
        },
        "id": "8ArWK463kbhL",
        "outputId": "9a916c78-087d-4e8a-aec0-a1ddff900e11"
      },
      "outputs": [
        {
          "output_type": "display_data",
          "data": {
            "text/html": [
              "        <script type=\"text/javascript\">\n",
              "        window.PlotlyConfig = {MathJaxConfig: 'local'};\n",
              "        if (window.MathJax) {MathJax.Hub.Config({SVG: {font: \"STIX-Web\"}});}\n",
              "        if (typeof require !== 'undefined') {\n",
              "        require.undef(\"plotly\");\n",
              "        requirejs.config({\n",
              "            paths: {\n",
              "                'plotly': ['https://cdn.plot.ly/plotly-2.8.3.min']\n",
              "            }\n",
              "        });\n",
              "        require(['plotly'], function(Plotly) {\n",
              "            window._Plotly = Plotly;\n",
              "        });\n",
              "        }\n",
              "        </script>\n",
              "        "
            ]
          },
          "metadata": {}
        }
      ],
      "source": [
        "import numpy as np\n",
        "import pandas as pd\n",
        "import plotly\n",
        "import plotly.figure_factory as ff\n",
        "import plotly.graph_objs as go\n",
        "from sklearn.linear_model import LogisticRegression\n",
        "from sklearn.preprocessing import StandardScaler\n",
        "from sklearn.preprocessing import MinMaxScaler\n",
        "from plotly.offline import download_plotlyjs, init_notebook_mode, plot, iplot\n",
        "init_notebook_mode(connected=True)"
      ]
    },
    {
      "cell_type": "code",
      "source": [
        "from google.colab import drive\n",
        "drive.mount('/content/drive')"
      ],
      "metadata": {
        "colab": {
          "base_uri": "https://localhost:8080/"
        },
        "id": "kC9DogFMAV_o",
        "outputId": "b047825d-936b-4478-cb8b-fecb7dea63fa"
      },
      "execution_count": 2,
      "outputs": [
        {
          "output_type": "stream",
          "name": "stdout",
          "text": [
            "Drive already mounted at /content/drive; to attempt to forcibly remount, call drive.mount(\"/content/drive\", force_remount=True).\n"
          ]
        }
      ]
    },
    {
      "cell_type": "code",
      "execution_count": 3,
      "metadata": {
        "id": "5mldzJdakbhS"
      },
      "outputs": [],
      "source": [
        "data = pd.read_csv('drive/MyDrive/AI_ML Course/AAC Course Assignments/Assignment-10/task_b.csv')\n",
        "data=data.iloc[:,1:]"
      ]
    },
    {
      "cell_type": "code",
      "execution_count": 4,
      "metadata": {
        "colab": {
          "base_uri": "https://localhost:8080/",
          "height": 206
        },
        "id": "rsCrC2wckbhV",
        "outputId": "7b686e6b-4947-495a-e763-ff8e94555476",
        "scrolled": true
      },
      "outputs": [
        {
          "output_type": "execute_result",
          "data": {
            "text/plain": [
              "            f1            f2        f3    y\n",
              "0  -195.871045 -14843.084171  5.532140  1.0\n",
              "1 -1217.183964  -4068.124621  4.416082  1.0\n",
              "2     9.138451   4413.412028  0.425317  0.0\n",
              "3   363.824242  15474.760647  1.094119  0.0\n",
              "4  -768.812047  -7963.932192  1.870536  0.0"
            ],
            "text/html": [
              "\n",
              "  <div id=\"df-c7207216-e478-4153-88a6-dcfc41eb3e76\">\n",
              "    <div class=\"colab-df-container\">\n",
              "      <div>\n",
              "<style scoped>\n",
              "    .dataframe tbody tr th:only-of-type {\n",
              "        vertical-align: middle;\n",
              "    }\n",
              "\n",
              "    .dataframe tbody tr th {\n",
              "        vertical-align: top;\n",
              "    }\n",
              "\n",
              "    .dataframe thead th {\n",
              "        text-align: right;\n",
              "    }\n",
              "</style>\n",
              "<table border=\"1\" class=\"dataframe\">\n",
              "  <thead>\n",
              "    <tr style=\"text-align: right;\">\n",
              "      <th></th>\n",
              "      <th>f1</th>\n",
              "      <th>f2</th>\n",
              "      <th>f3</th>\n",
              "      <th>y</th>\n",
              "    </tr>\n",
              "  </thead>\n",
              "  <tbody>\n",
              "    <tr>\n",
              "      <th>0</th>\n",
              "      <td>-195.871045</td>\n",
              "      <td>-14843.084171</td>\n",
              "      <td>5.532140</td>\n",
              "      <td>1.0</td>\n",
              "    </tr>\n",
              "    <tr>\n",
              "      <th>1</th>\n",
              "      <td>-1217.183964</td>\n",
              "      <td>-4068.124621</td>\n",
              "      <td>4.416082</td>\n",
              "      <td>1.0</td>\n",
              "    </tr>\n",
              "    <tr>\n",
              "      <th>2</th>\n",
              "      <td>9.138451</td>\n",
              "      <td>4413.412028</td>\n",
              "      <td>0.425317</td>\n",
              "      <td>0.0</td>\n",
              "    </tr>\n",
              "    <tr>\n",
              "      <th>3</th>\n",
              "      <td>363.824242</td>\n",
              "      <td>15474.760647</td>\n",
              "      <td>1.094119</td>\n",
              "      <td>0.0</td>\n",
              "    </tr>\n",
              "    <tr>\n",
              "      <th>4</th>\n",
              "      <td>-768.812047</td>\n",
              "      <td>-7963.932192</td>\n",
              "      <td>1.870536</td>\n",
              "      <td>0.0</td>\n",
              "    </tr>\n",
              "  </tbody>\n",
              "</table>\n",
              "</div>\n",
              "      <button class=\"colab-df-convert\" onclick=\"convertToInteractive('df-c7207216-e478-4153-88a6-dcfc41eb3e76')\"\n",
              "              title=\"Convert this dataframe to an interactive table.\"\n",
              "              style=\"display:none;\">\n",
              "        \n",
              "  <svg xmlns=\"http://www.w3.org/2000/svg\" height=\"24px\"viewBox=\"0 0 24 24\"\n",
              "       width=\"24px\">\n",
              "    <path d=\"M0 0h24v24H0V0z\" fill=\"none\"/>\n",
              "    <path d=\"M18.56 5.44l.94 2.06.94-2.06 2.06-.94-2.06-.94-.94-2.06-.94 2.06-2.06.94zm-11 1L8.5 8.5l.94-2.06 2.06-.94-2.06-.94L8.5 2.5l-.94 2.06-2.06.94zm10 10l.94 2.06.94-2.06 2.06-.94-2.06-.94-.94-2.06-.94 2.06-2.06.94z\"/><path d=\"M17.41 7.96l-1.37-1.37c-.4-.4-.92-.59-1.43-.59-.52 0-1.04.2-1.43.59L10.3 9.45l-7.72 7.72c-.78.78-.78 2.05 0 2.83L4 21.41c.39.39.9.59 1.41.59.51 0 1.02-.2 1.41-.59l7.78-7.78 2.81-2.81c.8-.78.8-2.07 0-2.86zM5.41 20L4 18.59l7.72-7.72 1.47 1.35L5.41 20z\"/>\n",
              "  </svg>\n",
              "      </button>\n",
              "      \n",
              "  <style>\n",
              "    .colab-df-container {\n",
              "      display:flex;\n",
              "      flex-wrap:wrap;\n",
              "      gap: 12px;\n",
              "    }\n",
              "\n",
              "    .colab-df-convert {\n",
              "      background-color: #E8F0FE;\n",
              "      border: none;\n",
              "      border-radius: 50%;\n",
              "      cursor: pointer;\n",
              "      display: none;\n",
              "      fill: #1967D2;\n",
              "      height: 32px;\n",
              "      padding: 0 0 0 0;\n",
              "      width: 32px;\n",
              "    }\n",
              "\n",
              "    .colab-df-convert:hover {\n",
              "      background-color: #E2EBFA;\n",
              "      box-shadow: 0px 1px 2px rgba(60, 64, 67, 0.3), 0px 1px 3px 1px rgba(60, 64, 67, 0.15);\n",
              "      fill: #174EA6;\n",
              "    }\n",
              "\n",
              "    [theme=dark] .colab-df-convert {\n",
              "      background-color: #3B4455;\n",
              "      fill: #D2E3FC;\n",
              "    }\n",
              "\n",
              "    [theme=dark] .colab-df-convert:hover {\n",
              "      background-color: #434B5C;\n",
              "      box-shadow: 0px 1px 3px 1px rgba(0, 0, 0, 0.15);\n",
              "      filter: drop-shadow(0px 1px 2px rgba(0, 0, 0, 0.3));\n",
              "      fill: #FFFFFF;\n",
              "    }\n",
              "  </style>\n",
              "\n",
              "      <script>\n",
              "        const buttonEl =\n",
              "          document.querySelector('#df-c7207216-e478-4153-88a6-dcfc41eb3e76 button.colab-df-convert');\n",
              "        buttonEl.style.display =\n",
              "          google.colab.kernel.accessAllowed ? 'block' : 'none';\n",
              "\n",
              "        async function convertToInteractive(key) {\n",
              "          const element = document.querySelector('#df-c7207216-e478-4153-88a6-dcfc41eb3e76');\n",
              "          const dataTable =\n",
              "            await google.colab.kernel.invokeFunction('convertToInteractive',\n",
              "                                                     [key], {});\n",
              "          if (!dataTable) return;\n",
              "\n",
              "          const docLinkHtml = 'Like what you see? Visit the ' +\n",
              "            '<a target=\"_blank\" href=https://colab.research.google.com/notebooks/data_table.ipynb>data table notebook</a>'\n",
              "            + ' to learn more about interactive tables.';\n",
              "          element.innerHTML = '';\n",
              "          dataTable['output_type'] = 'display_data';\n",
              "          await google.colab.output.renderOutput(dataTable, element);\n",
              "          const docLink = document.createElement('div');\n",
              "          docLink.innerHTML = docLinkHtml;\n",
              "          element.appendChild(docLink);\n",
              "        }\n",
              "      </script>\n",
              "    </div>\n",
              "  </div>\n",
              "  "
            ]
          },
          "metadata": {},
          "execution_count": 4
        }
      ],
      "source": [
        "data.head()"
      ]
    },
    {
      "cell_type": "code",
      "execution_count": 5,
      "metadata": {
        "colab": {
          "base_uri": "https://localhost:8080/"
        },
        "id": "FI18joJ_kbhZ",
        "outputId": "810f5006-f93e-4c75-9f1b-df3545f67288"
      },
      "outputs": [
        {
          "output_type": "execute_result",
          "data": {
            "text/plain": [
              "f1    0.067172\n",
              "f2   -0.017944\n",
              "f3    0.839060\n",
              "y     1.000000\n",
              "Name: y, dtype: float64"
            ]
          },
          "metadata": {},
          "execution_count": 5
        }
      ],
      "source": [
        "data.corr()['y']"
      ]
    },
    {
      "cell_type": "code",
      "execution_count": 6,
      "metadata": {
        "colab": {
          "base_uri": "https://localhost:8080/"
        },
        "id": "u40oCVMikbhc",
        "outputId": "629d783e-651b-4001-8f89-af47c65e4abc",
        "scrolled": true
      },
      "outputs": [
        {
          "output_type": "execute_result",
          "data": {
            "text/plain": [
              "f1      488.195035\n",
              "f2    10403.417325\n",
              "f3        2.926662\n",
              "y         0.501255\n",
              "dtype: float64"
            ]
          },
          "metadata": {},
          "execution_count": 6
        }
      ],
      "source": [
        "data.std()"
      ]
    },
    {
      "cell_type": "code",
      "execution_count": 7,
      "metadata": {
        "colab": {
          "base_uri": "https://localhost:8080/"
        },
        "id": "yQIbNaHskbhe",
        "outputId": "536bcea1-ebc1-4310-b034-83535ca433c9"
      },
      "outputs": [
        {
          "output_type": "stream",
          "name": "stdout",
          "text": [
            "(200, 3)\n",
            "(200,)\n"
          ]
        }
      ],
      "source": [
        "X=data[['f1','f2','f3']].values\n",
        "Y=data['y'].values\n",
        "print(X.shape)\n",
        "print(Y.shape)"
      ]
    },
    {
      "cell_type": "markdown",
      "metadata": {
        "id": "aUxp9-qEkbhh"
      },
      "source": [
        "# What if our features are with different variance \n",
        "\n",
        "<pre>\n",
        "* <b>As part of this task you will observe how linear models work in case of data having feautres with different variance</b>\n",
        "* <b>from the output of the above cells you can observe that var(F2)>>var(F1)>>Var(F3)</b>\n",
        "\n",
        "> <b>Task1</b>:\n",
        "    1. Apply Logistic regression(SGDClassifier with logloss) on 'data' and check the feature importance\n",
        "    2. Apply SVM(SGDClassifier with hinge) on 'data' and check the feature importance\n",
        "\n",
        "> <b>Task2</b>:\n",
        "    1. Apply Logistic regression(SGDClassifier with logloss) on 'data' after standardization \n",
        "       i.e standardization(data, column wise): (column-mean(column))/std(column) and check the feature importance\n",
        "    2. Apply SVM(SGDClassifier with hinge) on 'data' after standardization \n",
        "       i.e standardization(data, column wise): (column-mean(column))/std(column) and check the feature importance\n",
        "\n",
        "</pre>"
      ]
    },
    {
      "cell_type": "markdown",
      "metadata": {
        "id": "TbMnsrxakbhi"
      },
      "source": [
        "<h3><font color='blue'> Make sure you write the observations for each task, why a particular feautre got more importance than others</font></h3>"
      ]
    },
    {
      "cell_type": "markdown",
      "metadata": {
        "id": "8O1q3z-q-VlB"
      },
      "source": [
        "# Task 1"
      ]
    },
    {
      "cell_type": "code",
      "execution_count": 8,
      "metadata": {
        "colab": {
          "base_uri": "https://localhost:8080/"
        },
        "id": "YgXrVaxK-VlC",
        "outputId": "4df8456e-3ff0-4c78-c03e-d53053f0e04d"
      },
      "outputs": [
        {
          "output_type": "stream",
          "name": "stdout",
          "text": [
            "\n",
            "feature:f1 ,importance:3118.588456062495 after applying Logistic regression(SGDClassifier with logloss) on Data\n",
            "\n",
            "feature:f2 ,importance:-978.3257081535432 after applying Logistic regression(SGDClassifier with logloss) on Data\n",
            "\n",
            "feature:f3 ,importance:9965.678669147841 after applying Logistic regression(SGDClassifier with logloss) on Data\n",
            "****************************************\n",
            "\n",
            "feature:f1 ,importance:5110.97820710718 after apply SVM(SGDClassifier with hinge) on 'data' \n",
            "\n",
            "feature:f2 ,importance:-4466.997668725826 after apply SVM(SGDClassifier with hinge) on 'data' \n",
            "\n",
            "feature:f3 ,importance:10957.746961089786 after apply SVM(SGDClassifier with hinge) on 'data' \n"
          ]
        }
      ],
      "source": [
        "from sklearn.linear_model import SGDClassifier\n",
        "\n",
        "clf_log=SGDClassifier(loss='log' )\n",
        "clf_log.fit(X,Y)\n",
        "importance=clf_log.coef_[0]\n",
        "for i, feature in enumerate(data.columns[:-1]):\n",
        "    print(\"\\nfeature:{} ,importance:{} after applying Logistic regression(SGDClassifier with logloss) on Data\".format(feature,importance[i]))\n",
        "\n",
        "\n",
        "print(\"**\"*20)\n",
        "clf_hinge=SGDClassifier(loss='hinge')\n",
        "clf_hinge.fit(X,Y)\n",
        "importance_hinge=clf_hinge.coef_[0]\n",
        "for i, feature in enumerate(data.columns[:-1]):\n",
        "    print(\"\\nfeature:{} ,importance:{} after apply SVM(SGDClassifier with hinge) on 'data' \".format(feature,importance_hinge[i]))\n",
        "\n"
      ]
    },
    {
      "cell_type": "markdown",
      "metadata": {
        "id": "9Cv7KpLD-VlE"
      },
      "source": [
        "# Task 2"
      ]
    },
    {
      "cell_type": "code",
      "execution_count": 9,
      "metadata": {
        "colab": {
          "base_uri": "https://localhost:8080/"
        },
        "id": "N_fZdBDi-VlF",
        "outputId": "12836d38-ec38-4d7d-d7bf-d33d0e835c37"
      },
      "outputs": [
        {
          "output_type": "stream",
          "name": "stdout",
          "text": [
            "****************************************\n",
            "\n",
            "feature:f1 ,importance:3118.588456062495 after applying Logistic regression(SGDClassifier with logloss) after Standard Scaling\n",
            "\n",
            "feature:f2 ,importance:-978.3257081535432 after applying Logistic regression(SGDClassifier with logloss) after Standard Scaling\n",
            "\n",
            "feature:f3 ,importance:9965.678669147841 after applying Logistic regression(SGDClassifier with logloss) after Standard Scaling\n",
            "****************************************\n",
            "\n",
            "feature:f1 ,importance:-4.387158407486354 after applying SVM(SGDClassifier with hinge) after Standard Scaling\n",
            "\n",
            "feature:f2 ,importance:-2.854992105964449 after applying SVM(SGDClassifier with hinge) after Standard Scaling\n",
            "\n",
            "feature:f3 ,importance:17.300231213405265 after applying SVM(SGDClassifier with hinge) after Standard Scaling\n"
          ]
        }
      ],
      "source": [
        "scaler=StandardScaler()\n",
        "X_sc=scaler.fit_transform(X)\n",
        "clf_log.fit(X_sc,Y)\n",
        "clf_hinge.fit(X_sc,Y)\n",
        "importance_log=clf_log.coef_[0]\n",
        "importance_hinge=clf_hinge.coef_[0]\n",
        "print(\"**\"*20)\n",
        "for i, feature in enumerate(data.columns[:-1]):\n",
        "    print(\"\\nfeature:{} ,importance:{} after applying Logistic regression(SGDClassifier with logloss) after Standard Scaling\".format(feature,importance[i]))\n",
        "\n",
        "print(\"**\"*20)\n",
        "for i, feature in enumerate(data.columns[:-1]):\n",
        "    print(\"\\nfeature:{} ,importance:{} after applying SVM(SGDClassifier with hinge) after Standard Scaling\".format(feature,importance_hinge[i]))\n",
        "\n"
      ]
    },
    {
      "cell_type": "markdown",
      "metadata": {
        "id": "JUuhnZhS-VlF"
      },
      "source": [
        "# Observation"
      ]
    },
    {
      "cell_type": "markdown",
      "metadata": {
        "id": "DrH7BJWN-VlG"
      },
      "source": [
        "1.From the above summary statistics we can say that the high variance and low correlation feature is (F2) and low variance and high correlation feature (F3).\n",
        "\n",
        "2.When we are using Logistic Regression on  F2 then importance of that particular features becomes very high as compared to other features.\n",
        "\n",
        "3.When we are using SVM, low variance and high correlation feature (F3) has maximum feature importance score.so that, the variance of a feature leads to how much its impact on the dependent variable.\n",
        "\n",
        "4.After Standardization, using Logistic Regression & SVM, low standard deviation & high correlation feature (F3) has maximum feature importance.\n",
        "\n",
        "5.Standardization do not add much information here, it is very difficult to interpret the output results and sometimes, it misleads the information.\n",
        "\n",
        "6.Features with higher coeffiecient means they are more important.\n",
        "\n",
        "7.Feature importance is completely depends on which algorithms you are using to solve real world problem."
      ]
    }
  ],
  "metadata": {
    "colab": {
      "provenance": []
    },
    "kernelspec": {
      "display_name": "Python 3 (ipykernel)",
      "language": "python",
      "name": "python3"
    },
    "language_info": {
      "codemirror_mode": {
        "name": "ipython",
        "version": 3
      },
      "file_extension": ".py",
      "mimetype": "text/x-python",
      "name": "python",
      "nbconvert_exporter": "python",
      "pygments_lexer": "ipython3",
      "version": "3.7.13"
    }
  },
  "nbformat": 4,
  "nbformat_minor": 0
}