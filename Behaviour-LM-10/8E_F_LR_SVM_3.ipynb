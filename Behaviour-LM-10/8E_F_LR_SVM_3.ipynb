{
  "cells": [
    {
      "cell_type": "markdown",
      "metadata": {
        "id": "5HExLQrE4ZxR"
      },
      "source": [
        "<h1><font color='blue'> 8E and 8F: Finding the Probability P(Y==1|X)</font></h1>"
      ]
    },
    {
      "cell_type": "markdown",
      "metadata": {
        "id": "4LuKrFzC4ZxV"
      },
      "source": [
        "<h2><font color='Geen'> 8E: Implementing Decision Function of SVM RBF Kernel</font></h2>"
      ]
    },
    {
      "cell_type": "markdown",
      "metadata": {
        "id": "1wES-wWN4ZxX"
      },
      "source": [
        "<font face=' Comic Sans MS' size=3>After we train a kernel SVM model, we will be getting support vectors and their corresponsing coefficients $\\alpha_{i}$\n",
        "\n",
        "Check the documentation for better understanding of these attributes: \n",
        "\n",
        "https://scikit-learn.org/stable/modules/generated/sklearn.svm.SVC.html\n",
        "<img src='https://i.imgur.com/K11msU4.png' width=500>\n",
        "\n",
        "As a part of this assignment you will be implementing the ```decision_function()``` of kernel SVM, here decision_function() means based on the value return by ```decision_function()``` model will classify the data point either as positive or negative\n",
        "\n",
        "Ex 1: In logistic regression After traning the models with the optimal weights $w$ we get, we will find the value $\\frac{1}{1+\\exp(-(wx+b))}$, if this value comes out to be < 0.5 we will mark it as negative class, else its positive class\n",
        "\n",
        "Ex 2: In Linear SVM After traning the models with the optimal weights $w$ we get, we will find the value of $sign(wx+b)$, if this value comes out to be -ve we will mark it as negative class, else its positive class.\n",
        "\n",
        "Similarly in Kernel SVM After traning the models with the coefficients $\\alpha_{i}$ we get, we will find the value of \n",
        "$sign(\\sum_{i=1}^{n}(y_{i}\\alpha_{i}K(x_{i},x_{q})) + intercept)$, here $K(x_{i},x_{q})$ is the RBF kernel. If this value comes out to be -ve we will mark $x_{q}$ as negative class, else its positive class.\n",
        "\n",
        "RBF kernel is defined as: $K(x_{i},x_{q})$ = $exp(-\\gamma ||x_{i} - x_{q}||^2)$\n",
        "\n",
        "For better understanding check this link: https://scikit-learn.org/stable/modules/svm.html#svm-mathematical-formulation\n",
        "</font>"
      ]
    },
    {
      "cell_type": "markdown",
      "metadata": {
        "id": "z830CfMk4Zxa"
      },
      "source": [
        "## Task E"
      ]
    },
    {
      "cell_type": "markdown",
      "metadata": {
        "id": "MuBxHiCQ4Zxc"
      },
      "source": [
        "> 1. Split the data into $X_{train}$(60), $X_{cv}$(20), $X_{test}$(20)\n",
        "\n",
        "> 2. Train $SVC(gamma=0.001, C=100.)$ on the ($X_{train}$, $y_{train}$)\n",
        "\n",
        "> 3. Get the decision boundry values $f_{cv}$ on the $X_{cv}$ data  i.e. ` `$f_{cv}$ ```= decision_function(```$X_{cv}$```)```  <font color='red'>you need to implement this decision_function()</font>"
      ]
    },
    {
      "cell_type": "code",
      "execution_count": 1,
      "metadata": {
        "id": "fCgMNEvI4Zxf"
      },
      "outputs": [],
      "source": [
        "import numpy as np\n",
        "import pandas as pd\n",
        "from sklearn.datasets import make_classification\n",
        "import numpy as np\n",
        "from sklearn.svm import SVC"
      ]
    },
    {
      "cell_type": "code",
      "execution_count": 2,
      "metadata": {
        "id": "ANUNIqCe4Zxn"
      },
      "outputs": [],
      "source": [
        "X, y = make_classification(n_samples=5000, n_features=5, n_redundant=2,\n",
        "                           n_classes=2, weights=[0.7], class_sep=0.7, random_state=15)"
      ]
    },
    {
      "cell_type": "code",
      "execution_count": 3,
      "metadata": {
        "id": "uchWYcepN-w-",
        "outputId": "aea13fa7-ccc1-4f7c-dbbc-02cf1939ba6f",
        "colab": {
          "base_uri": "https://localhost:8080/"
        }
      },
      "outputs": [
        {
          "output_type": "stream",
          "name": "stdout",
          "text": [
            "x_train (3000, 5)\n",
            "y_train (3000,)\n",
            "x_cv (1000, 5)\n",
            "y_cv (1000,)\n",
            "x_test (1000, 5)\n",
            "y_test (1000,)\n"
          ]
        }
      ],
      "source": [
        "from sklearn.model_selection import train_test_split\n",
        "x_train,X_test,y_train,Y_test=train_test_split(X,y,test_size=0.40,stratify=y,random_state=42 )\n",
        "x_cv,x_test,y_cv,y_test=train_test_split(X_test,Y_test,test_size=0.5,stratify=Y_test,random_state=42)\n",
        "print('x_train',x_train.shape)\n",
        "print('y_train',y_train.shape)\n",
        "print('x_cv',x_cv.shape)\n",
        "print('y_cv',y_cv.shape)\n",
        "print('x_test',x_test.shape)\n",
        "print('y_test',y_test.shape)"
      ]
    },
    {
      "cell_type": "markdown",
      "metadata": {
        "id": "tHie1zqH4Zxt"
      },
      "source": [
        "### Pseudo code\n",
        "\n",
        "clf = SVC(gamma=0.001, C=100.)<br>\n",
        "clf.fit(Xtrain, ytrain)\n",
        "\n",
        "<font color='green'>def</font> <font color='blue'>decision_function</font>(Xcv, ...): #use appropriate parameters <br>\n",
        "&nbsp;&nbsp;&nbsp;&nbsp;&nbsp;&nbsp;<font color='green'>for</font> a data point $x_q$ <font color='green'>in</font> Xcv: <br>\n",
        "&nbsp;&nbsp;&nbsp;&nbsp;&nbsp;&nbsp;&nbsp;&nbsp;&nbsp;&nbsp;&nbsp;&nbsp;<font color='grey'>#write code to implement $(\\sum_{i=1}^{\\text{all the support vectors}}(y_{i}\\alpha_{i}K(x_{i},x_{q})) + intercept)$, here the values $y_i$, $\\alpha_{i}$, and $intercept$ can be obtained from the trained model</font><br>\n",
        "   <font color='green'>return</font> <font color='grey'><i># the decision_function output for all the data points in the Xcv</i></font>\n",
        "    \n",
        "fcv = decision_function(Xcv, ...)  <i># based on your requirement you can pass any other parameters </i>\n",
        "\n",
        "<b>Note</b>: Make sure the values you get as fcv, should be equal to outputs of clf.decision_function(Xcv)\n"
      ]
    },
    {
      "cell_type": "code",
      "source": [
        "#standardising before applying svm for easy calcululation \n",
        "from sklearn import preprocessing\n",
        "normalizer = preprocessing.Normalizer()\n",
        "x_train= normalizer.fit_transform(x_train)\n",
        "x_train.shape\n",
        "\n",
        "from sklearn import preprocessing\n",
        "normalizer = preprocessing.Normalizer()\n",
        "x_cv= normalizer.fit_transform(x_cv)\n",
        "x_cv.shape\n",
        "\n",
        "from sklearn import preprocessing\n",
        "normalizer = preprocessing.Normalizer()\n",
        "x_test= normalizer.fit_transform(x_test)\n",
        "x_test.shape"
      ],
      "metadata": {
        "colab": {
          "base_uri": "https://localhost:8080/"
        },
        "id": "4P2_ScslxI34",
        "outputId": "16640da3-f2fd-4d4c-f15a-ec74269646b2"
      },
      "execution_count": 4,
      "outputs": [
        {
          "output_type": "execute_result",
          "data": {
            "text/plain": [
              "(1000, 5)"
            ]
          },
          "metadata": {},
          "execution_count": 4
        }
      ]
    },
    {
      "cell_type": "code",
      "execution_count": 5,
      "metadata": {
        "id": "h43kDT3M41u5",
        "colab": {
          "base_uri": "https://localhost:8080/"
        },
        "outputId": "1bc8f93d-d0ce-4d66-aa15-ba0b30c82e2f"
      },
      "outputs": [
        {
          "output_type": "stream",
          "name": "stdout",
          "text": [
            "support_vectors (667, 5)\n"
          ]
        }
      ],
      "source": [
        "# you can write your code here\n",
        "import random\n",
        "model_clf = SVC(gamma=0.001, C=100,kernel=\"rbf\")\n",
        "model_clf.fit(x_train, y_train)\n",
        "y_pred = model_clf.predict(x_test)\n",
        "print(\"support_vectors\",model_clf.support_vectors_.shape)"
      ]
    },
    {
      "cell_type": "code",
      "execution_count": 6,
      "metadata": {
        "id": "x7YcnihPN-xB",
        "outputId": "df0c3873-9bd5-4a03-ed90-00a510bb39b0",
        "colab": {
          "base_uri": "https://localhost:8080/"
        }
      },
      "outputs": [
        {
          "output_type": "stream",
          "name": "stdout",
          "text": [
            "[[655  42]\n",
            " [ 25 278]]\n",
            "              precision    recall  f1-score   support\n",
            "\n",
            "           0       0.96      0.94      0.95       697\n",
            "           1       0.87      0.92      0.89       303\n",
            "\n",
            "    accuracy                           0.93      1000\n",
            "   macro avg       0.92      0.93      0.92      1000\n",
            "weighted avg       0.93      0.93      0.93      1000\n",
            "\n"
          ]
        }
      ],
      "source": [
        "from sklearn.metrics import classification_report, confusion_matrix\n",
        "print(confusion_matrix(y_test,y_pred))\n",
        "print(classification_report(y_test,y_pred))"
      ]
    },
    {
      "cell_type": "code",
      "execution_count": 7,
      "metadata": {
        "id": "ijmIii57N-xC"
      },
      "outputs": [],
      "source": [
        "def decision_function(x_cv):\n",
        "    alphas = model_clf.dual_coef_[0]\n",
        "    decision_function = []\n",
        "    for dp in x_cv:\n",
        "        sum = model_clf.intercept_[0]\n",
        "        for i,supvec in enumerate(model_clf.support_vectors_):\n",
        "            norm = np.linalg.norm(supvec - dp)**2\n",
        "            kernel = np.exp(-0.001*norm)\n",
        "            #print(kernel)\n",
        "            sum += (alphas[i]*kernel)\n",
        "        #print(sum)\n",
        "        decision_function.append(sum)\n",
        "        \n",
        "    return np.array(decision_function)"
      ]
    },
    {
      "cell_type": "code",
      "source": [
        "print(\"decision_function output shape\",model_clf.decision_function(x_cv).shape)"
      ],
      "metadata": {
        "colab": {
          "base_uri": "https://localhost:8080/"
        },
        "id": "czAUnGovxqo2",
        "outputId": "e5595c90-a337-4852-ae2b-0c5edde33355"
      },
      "execution_count": 8,
      "outputs": [
        {
          "output_type": "stream",
          "name": "stdout",
          "text": [
            "decision_function output shape (1000,)\n"
          ]
        }
      ]
    },
    {
      "cell_type": "code",
      "source": [
        "print(\"dual coeff shape\",model_clf.dual_coef_.shape)"
      ],
      "metadata": {
        "colab": {
          "base_uri": "https://localhost:8080/"
        },
        "id": "I1ltMzSzx1y9",
        "outputId": "aace26b9-c81e-4c1b-8c07-1457f3be3f99"
      },
      "execution_count": 9,
      "outputs": [
        {
          "output_type": "stream",
          "name": "stdout",
          "text": [
            "dual coeff shape (1, 667)\n"
          ]
        }
      ]
    },
    {
      "cell_type": "code",
      "execution_count": 10,
      "metadata": {
        "id": "0vqvEkjnN-xB",
        "outputId": "1c9924e6-b523-4752-d528-5cf5e936cabc",
        "colab": {
          "base_uri": "https://localhost:8080/"
        }
      },
      "outputs": [
        {
          "output_type": "stream",
          "name": "stdout",
          "text": [
            "[-3.0089086   1.50715859  1.99033718 -1.65137204  2.21327284 -1.41470309\n",
            " -2.54105833 -1.91920896 -2.97507754 -2.66662818]\n"
          ]
        }
      ],
      "source": [
        "print(model_clf.decision_function(x_cv)[:10])"
      ]
    },
    {
      "cell_type": "code",
      "execution_count": 11,
      "metadata": {
        "id": "D5w-5XAAN-xC",
        "outputId": "011f69d1-2ba2-4673-f0dc-1d224d8da2ce",
        "colab": {
          "base_uri": "https://localhost:8080/"
        }
      },
      "outputs": [
        {
          "output_type": "stream",
          "name": "stdout",
          "text": [
            "[-3.0089086   1.50715859  1.99033718 -1.65137204  2.21327284 -1.41470309\n",
            " -2.54105833 -1.91920896 -2.97507754 -2.66662818]\n"
          ]
        }
      ],
      "source": [
        "F_cv = decision_function(x_cv)\n",
        "print(F_cv[:10])"
      ]
    },
    {
      "cell_type": "markdown",
      "metadata": {
        "id": "c0bKCboN4Zxu"
      },
      "source": [
        "<h2><font color='Geen'> 8F: Implementing Platt Scaling to find P(Y==1|X)</font></h2>"
      ]
    },
    {
      "cell_type": "markdown",
      "metadata": {
        "id": "nMn7OEN94Zxw"
      },
      "source": [
        "Check this <a href='https://drive.google.com/open?id=133odBinMOIVb_rh_GQxxsyMRyW-Zts7a'>PDF</a>\n",
        "<img src='https://i.imgur.com/CAMnVnh.png'>\n"
      ]
    },
    {
      "cell_type": "markdown",
      "metadata": {
        "id": "e0n5EFkx4Zxz"
      },
      "source": [
        "## TASK F"
      ]
    },
    {
      "cell_type": "markdown",
      "metadata": {
        "id": "t0HOqVJq4Zx1"
      },
      "source": [
        "\n",
        "> 4. Apply SGD algorithm with ($f_{cv}$, $y_{cv}$) and find the weight $W$ intercept $b$ ```Note: here our data is of one dimensional so we will have a one dimensional weight vector i.e W.shape (1,)``` \n",
        "\n",
        "> Note1: Don't forget to change the values of $y_{cv}$ as mentioned in the above image. you will calculate y+, y- based on data points in train data\n",
        "\n",
        "> Note2: the Sklearn's SGD algorithm doesn't support the real valued outputs, you need to use the code that was done in the `'Logistic Regression with SGD and L2'` Assignment after modifying loss function, and use same parameters that used in that assignment.\n",
        "<img src='https://i.imgur.com/zKYE9Oc.png'>\n",
        "if Y[i] is 1, it will be replaced with y+ value else it will replaced with y- value\n",
        "\n",
        "> 5. For a given data point from $X_{test}$, $P(Y=1|X) = \\frac{1}{1+exp(-(W*f_{test}+ b))}$ where ` `$f_{test}$ ```= decision_function(```$X_{test}$```)```, W and b will be learned as metioned in the above step"
      ]
    },
    {
      "cell_type": "code",
      "execution_count": 13,
      "metadata": {
        "id": "S9P-3LiIN-xE",
        "outputId": "8d1bc16f-1f68-4b30-d473-a1d61d7e8f5f",
        "colab": {
          "base_uri": "https://localhost:8080/"
        }
      },
      "outputs": [
        {
          "output_type": "stream",
          "name": "stdout",
          "text": [
            "Number of positive classes in y_train: 908\n",
            "Number of negative classes in y_train 2092\n",
            "****************************************\n",
            "Number of positive classes in y_cv: 303\n",
            "Number of negative classes in y_cv 92\n",
            "(1000,)\n"
          ]
        }
      ],
      "source": [
        "Np=y_train[y_train>0].sum()\n",
        "Nn=len(y_train)-Np\n",
        "print(\"Number of positive classes in y_train:\",Np)\n",
        "print(\"Number of negative classes in y_train\",Nn)\n",
        "print(\"**\"*20)\n",
        "Yp = (Np+1)/(Np+2)\n",
        "Yn = 1/(Nn+2)\n",
        "\n",
        "modified_ycv = []\n",
        "\n",
        "ycv_Np=y_cv[y_cv>0].sum()\n",
        "ycv_Nn=len(y_cv)-Np\n",
        "print(\"Number of positive classes in y_cv:\",ycv_Np)\n",
        "print(\"Number of negative classes in y_cv\",ycv_Nn)\n",
        "\n",
        "for y in y_cv:\n",
        "    if y > 0:\n",
        "        modified_ycv.append(Yp)\n",
        "    else:\n",
        "        modified_ycv.append(Yn)\n",
        "modified_ycv = np.array(modified_ycv)\n",
        "print(modified_ycv.shape)\n"
      ]
    },
    {
      "cell_type": "code",
      "execution_count": 14,
      "metadata": {
        "id": "5JjsJCgjN-xE"
      },
      "outputs": [],
      "source": [
        "\n",
        "import math\n",
        "def initialize_weights(dim):\n",
        "    ''' In this function, we will initialize our weights and bias'''\n",
        "    #initialize the weights to zeros array of (1,dim) dimensions\n",
        "    #you use zeros_like function to initialize zero\n",
        "    #initialize bias to zero\n",
        "    w = np.zeros_like(dim).reshape(1,-1)\n",
        "    b = 0\n",
        "    return w,b\n",
        "\n",
        "def sigmoid(z):\n",
        "    ''' In this function, we will return sigmoid of z'''\n",
        "    # compute sigmoid(z) and return\n",
        "    result = 1/(1+np.exp(-z))\n",
        "    return result\n",
        "\n",
        "def logloss(y_true,y_pred,w,b):\n",
        "    N = len(y_true)\n",
        "    sum_log_loss=0\n",
        "    for index in range(N):\n",
        "        arg1=sigmoid(w*y_pred[index]+b)\n",
        "        arg2=(1-arg1)+10e-6\n",
        "        sum_log_loss +=(y_true[index] * math.log10(arg1)+(1-y_true[index]) * math.log10(arg2))\n",
        "    return -sum_log_loss/N\n",
        "\n",
        "def gradient_dw(x,y,w,b,alpha,N):\n",
        "    '''In this function, we will compute the gardient w.r.to w '''\n",
        "    z= (w*x) + b\n",
        "    dw = x * (y- sigmoid(z)) - alpha * w/N\n",
        "    return dw\n",
        "\n",
        "def gradient_db(x,y,w,b):\n",
        "    '''In this function, we will compute gradient w.r.to b '''\n",
        "    z= (w*x+b) + b\n",
        "    db = y - sigmoid(z)\n",
        "    return db\n"
      ]
    },
    {
      "cell_type": "code",
      "execution_count": 15,
      "metadata": {
        "id": "1rfKnEWlN-xF"
      },
      "outputs": [],
      "source": [
        "def train(X_train,y_train,epochs,alpha,eta0):\n",
        "    log_loss=[]\n",
        "    w,b=0,0\n",
        "    for epoch in range(1,epochs):\n",
        "        predicted=[]\n",
        "        #print(w,b)\n",
        "        for index in range(len(X_train)):\n",
        "            grad_w = gradient_dw(X_train[index],y_train[index],w,b,alpha,len(X_train))\n",
        "            grad_b = gradient_db(X_train[index],y_train[index],w,b)\n",
        "            w_new = w - eta0 * grad_w\n",
        "            b_new = b - eta0 * grad_b\n",
        "            w=w_new\n",
        "            b=b_new\n",
        "\n",
        "        for index in range(len(X_train)):\n",
        "            z = w*X_train[index] + b\n",
        "            #print(z)\n",
        "            pred = round(sigmoid(z),4)\n",
        "            #print(pred)\n",
        "            predicted.append(pred)\n",
        "            \n",
        "        loss=logloss(y_train,predicted,w,b)\n",
        "        #print(loss)\n",
        "        log_loss.append(loss)\n",
        "        \n",
        "    return log_loss,w,b "
      ]
    },
    {
      "cell_type": "code",
      "execution_count": 19,
      "metadata": {
        "id": "QAIKQWmiN-xF",
        "outputId": "875f4a91-cf37-4380-accc-6d5ce94cb7ef",
        "colab": {
          "base_uri": "https://localhost:8080/"
        }
      },
      "outputs": [
        {
          "output_type": "stream",
          "name": "stdout",
          "text": [
            "log_loss: [0.20722601908389143, 0.13038572138377574, 0.11138093043054262, 0.11755836450298886, 0.1337858904612123, 0.1544454752424023, 0.1773649897170194, 0.2015938708890187, 0.22665299027003022, 0.25228412287684737, 0.2783232445175099, 0.3046631789596858, 0.33121521914742985, 0.3579236050359715, 0.384730631044754, 0.411612027641064, 0.43852849566163793, 0.4654613042428664, 0.4923783496600959]\n",
            "\n",
            "weights: -32.44837406453687\n",
            "\n",
            "bias_term: 8.031802075095545\n"
          ]
        }
      ],
      "source": [
        "log_loss, w, b=train(X_train=F_cv,y_train=modified_ycv,epochs=20,alpha=0.001,eta0=0.001)\n",
        "print('log_loss:',log_loss)\n",
        "print('\\nweights:',w)\n",
        "print('\\nbias_term:',b) "
      ]
    },
    {
      "cell_type": "code",
      "execution_count": 20,
      "metadata": {
        "id": "xfTHNC_VN-xG",
        "outputId": "65152cb6-a76a-41bd-b6b5-5f9f45c70729",
        "colab": {
          "base_uri": "https://localhost:8080/"
        }
      },
      "outputs": [
        {
          "output_type": "stream",
          "name": "stdout",
          "text": [
            "log_loss: [0.29837695687702215, 0.29396320989393393, 0.28751316450161146, 0.2789848583836649, 0.26862584457009014, 0.2569187260663492, 0.2444463606631799, 0.23175423965201067, 0.21927193941819603, 0.20729662227091586, 0.19601436591193927, 0.1855257293423869, 0.17587550582665903, 0.16707161808163876, 0.15909613857302213, 0.15191973772347742, 0.14550251001092748, 0.1398006272366454, 0.13476764137094785]\n",
            "\n",
            "weights: -2.7866793600250412\n",
            "\n",
            "bias_term: 0.7585345196202196\n"
          ]
        }
      ],
      "source": [
        "log_loss, w, b=train(X_train=F_cv,y_train=modified_ycv,epochs=20,alpha=0.0001,eta0=0.0001)\n",
        "print('log_loss:',log_loss)\n",
        "print('\\nweights:',w)\n",
        "print('\\nbias_term:',b) "
      ]
    },
    {
      "cell_type": "code",
      "source": [
        "log_loss[:10]"
      ],
      "metadata": {
        "colab": {
          "base_uri": "https://localhost:8080/"
        },
        "id": "eGFTNkOmd9l0",
        "outputId": "5ac9a75b-dadb-4171-8512-39fc1b529508"
      },
      "execution_count": 22,
      "outputs": [
        {
          "output_type": "execute_result",
          "data": {
            "text/plain": [
              "[0.29837695687702215,\n",
              " 0.29396320989393393,\n",
              " 0.28751316450161146,\n",
              " 0.2789848583836649,\n",
              " 0.26862584457009014,\n",
              " 0.2569187260663492,\n",
              " 0.2444463606631799,\n",
              " 0.23175423965201067,\n",
              " 0.21927193941819603,\n",
              " 0.20729662227091586]"
            ]
          },
          "metadata": {},
          "execution_count": 22
        }
      ]
    },
    {
      "cell_type": "code",
      "source": [
        "import matplotlib.pyplot as plt\n",
        "plt.grid()\n",
        "plt.plot(np.arange(1,20),log_loss,'bo-',label='Loss',linewidth=3)\n",
        "plt.xlabel('Epoch')\n",
        "plt.ylabel('Loss')\n",
        "plt.title('Epoch vs Loss')\n",
        "plt.legend()\n",
        "plt.show()"
      ],
      "metadata": {
        "id": "ms6Xk1JbeRmW",
        "colab": {
          "base_uri": "https://localhost:8080/",
          "height": 295
        },
        "outputId": "0fb64590-adcb-4ff8-fdd6-0b5a6c2c1e30"
      },
      "execution_count": 24,
      "outputs": [
        {
          "output_type": "display_data",
          "data": {
            "text/plain": [
              "<Figure size 432x288 with 1 Axes>"
            ],
            "image/png": "[encoded data removed]"
          },
          "metadata": {
            "needs_background": "light"
          }
        }
      ]
    },
    {
      "cell_type": "markdown",
      "source": [
        "**Observations**\n",
        "\n",
        "1.After consideration of above learning curve we can say that linear model was good-fit for this dataset beacause as we have seen that in the learning curve as epoch increases loss values gradually decreases.\n",
        "\n",
        "2.After trining this model we can expect that on the training set the performance should with time was not detoriated.\n",
        "\n",
        "3.As the loss will be low, which means that the model does a good job means model was good here.\n",
        "\n"
      ],
      "metadata": {
        "id": "kp6JbkNoUuL6"
      }
    },
    {
      "cell_type": "code",
      "source": [
        "len(X_test)"
      ],
      "metadata": {
        "colab": {
          "base_uri": "https://localhost:8080/"
        },
        "id": "87pFNt7DpG0H",
        "outputId": "859cf9c1-bc44-4b09-cb0c-175e274c9ed6"
      },
      "execution_count": 25,
      "outputs": [
        {
          "output_type": "execute_result",
          "data": {
            "text/plain": [
              "2000"
            ]
          },
          "metadata": {},
          "execution_count": 25
        }
      ]
    },
    {
      "cell_type": "code",
      "source": [
        "z=(w * decision_function(X_test) + b)\n",
        "result = sigmoid(z)\n"
      ],
      "metadata": {
        "id": "AYbwHX4Xfd3B"
      },
      "execution_count": 26,
      "outputs": []
    },
    {
      "cell_type": "code",
      "source": [
        "predict = []\n",
        "for i in result:\n",
        "    if i >=0.5:\n",
        "        predict.append(1)\n",
        "    else:\n",
        "        predict.append(0)\n",
        "print(np.array(predict))"
      ],
      "metadata": {
        "id": "RNWxREENfuWB",
        "colab": {
          "base_uri": "https://localhost:8080/"
        },
        "outputId": "ac5fbdf3-e30e-4ebc-921c-8aff922a483b"
      },
      "execution_count": 27,
      "outputs": [
        {
          "output_type": "stream",
          "name": "stdout",
          "text": [
            "[1 1 1 ... 1 1 1]\n"
          ]
        }
      ]
    },
    {
      "cell_type": "code",
      "source": [
        "len(predict)"
      ],
      "metadata": {
        "colab": {
          "base_uri": "https://localhost:8080/"
        },
        "id": "tqtKxO72oURz",
        "outputId": "b53f755d-2735-4288-c5a4-e50a166836ae"
      },
      "execution_count": 28,
      "outputs": [
        {
          "output_type": "execute_result",
          "data": {
            "text/plain": [
              "2000"
            ]
          },
          "metadata": {},
          "execution_count": 28
        }
      ]
    },
    {
      "cell_type": "markdown",
      "metadata": {
        "id": "oTY7z2bd4Zx2"
      },
      "source": [
        "__Note: in the above algorithm, the steps 2, 4 might need hyper parameter tuning, To reduce the complexity of the assignment we are excluding the hyerparameter tuning part, but intrested students can try that__"
      ]
    },
    {
      "cell_type": "markdown",
      "metadata": {
        "id": "CM3odN1Z4Zx3"
      },
      "source": [
        "\n",
        "If any one wants to try other calibration algorithm istonic regression also please check these tutorials\n",
        "\n",
        "1. http://fa.bianp.net/blog/tag/scikit-learn.html#fn:1\n",
        "\n",
        "2. https://drive.google.com/open?id=1MzmA7QaP58RDzocB0RBmRiWfl7Co_VJ7\n",
        "\n",
        "3. https://drive.google.com/open?id=133odBinMOIVb_rh_GQxxsyMRyW-Zts7a\n",
        "\n",
        "4. https://stat.fandom.com/wiki/Isotonic_regression#Pool_Adjacent_Violators_Algorithm\n"
      ]
    }
  ],
  "metadata": {
    "colab": {
      "provenance": []
    },
    "kernelspec": {
      "display_name": "Python 3 (ipykernel)",
      "language": "python",
      "name": "python3"
    },
    "language_info": {
      "codemirror_mode": {
        "name": "ipython",
        "version": 3
      },
      "file_extension": ".py",
      "mimetype": "text/x-python",
      "name": "python",
      "nbconvert_exporter": "python",
      "pygments_lexer": "ipython3",
      "version": "3.7.13"
    },
    "gpuClass": "standard"
  },
  "nbformat": 4,
  "nbformat_minor": 0
}