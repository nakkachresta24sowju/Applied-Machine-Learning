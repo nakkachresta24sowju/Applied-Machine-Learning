{
 "cells": [
  {
   "cell_type": "markdown",
   "metadata": {
    "id": "Dnubs-Nnb3cw"
   },
   "source": [
    "# Assignment 6: Apply NB"
   ]
  },
  {
   "cell_type": "markdown",
   "metadata": {
    "id": "RW0zYHb5m_wI"
   },
   "source": [
    "<ol>\n",
    "    <li>Minimum data points need to be considered for people having 4GB RAM is <strong>50k</strong> and for 8GB RAM is <strong>100k</strong></li>\n",
    "    <li>When you are using ramdomsearchcv or gridsearchcv you need not split the data into X_train,X_cv,X_test. As the above methods use kfold. The model will learn better if train data is more so splitting to X_train,X_test will suffice.</li>\n",
    "    <li>If you are writing for loops to tune your model then you need split the data into X_train,X_cv,X_test.</li>\n",
    "    <li>While splitting the data explore stratify parameter. </li>\n",
    "    <li><strong>Apply Multinomial NB on these feature sets</strong></li>\n",
    "        <ul>\n",
    "            <li>Features that need to be considered</li> \n",
    "                <dl>\n",
    "                  <dt>essay</dt>\n",
    "                    <dd>while encoding essay, try to experiment with the max_features and n_grams parameter of vectorizers and see if it increases AUC score.</dd>\n",
    "                  <dt>categorical features</dt>\n",
    "                  <dd> - teacher_prefix</dd>\n",
    "                  <dd> - project_grade_category</dd>\n",
    "                  <dd> - school_state</dd>\n",
    "                  <dd> - clean_categories</dd>\n",
    "                  <dd> - clean_subcategories</dd>\n",
    "                  <dt>numerical features</dt>\n",
    "                  <dd> - price</dd>\n",
    "                  <dd> - teacher_number_of_previously_posted_projects</dd>\n",
    "                  <dd>while encoding the numerical features check <a href='https://imgur.com/ldZA1zg'>this</a> and <a href='https://ac-classroom-production.s3.amazonaws.com/public/COMMENT/Annotation_2020-05-21_225912_0lyZzN8.jpg'>this</a></dd>\n",
    "                </dl>    \n",
    "            <li><font color='red'>Set 1</font>: categorical, numerical features + preprocessed_eassay (BOW)</li>\n",
    "            <li><font color='red'>Set 2</font>: categorical, numerical features + preprocessed_eassay (TFIDF)</li>\n",
    "        </ul>\n",
    "    <li><strong>The hyper paramter tuning(find best alpha:smoothing parameter)</strong>\n",
    "        <ul>\n",
    "    <li>Consider alpha values in range: 10^-5 to 10^2 like [0.00001,0.0005, 0.0001,0.005,0.001,0.05,0.01,0.1,0.5,1,5,10,50,100]</li>\n",
    "    <li>Explore class_prior = [0.5, 0.5] parameter which can be present in MultinomialNB function(go through <a href='https://scikit-learn.org/stable/modules/generated/sklearn.naive_bayes.MultinomialNB.html'>this</a> ) then check how results might change.\n",
    "    <li>Find the best hyper parameter which will give the maximum <a href='https://www.appliedaicourse.com/course/applied-ai-course-online/lessons/receiver-operating-characteristic-curve-roc-curve-and-auc-1/'>AUC</a> value</li>\n",
    "    <li>For hyper parameter tuning using k-fold cross validation(use GridsearchCV or RandomsearchCV)/simple cross validation data (write for loop to iterate over hyper parameter values)</li>\n",
    "    <li>You need to plot the performance of model both on train data and cross validation data for each hyper parameter, like shown in the figure\n",
    "    <img src='https://i.imgur.com/hUv6aEy.jpg' width=300px><dd>-while plotting take log(alpha) on your X-axis so that it will be more readable</dd></li>\n",
    "    <li>Once after you found the best hyper parameter, you need to train your model with it, and find the AUC on test data and plot the ROC curve on both train and test.\n",
    "    <img src='https://imgur.com/q2P65L5.jpg' width=300px></li>\n",
    "    <li>Along with plotting ROC curve, you need to print the <a href='https://www.appliedaicourse.com/course/applied-ai-course-online/lessons/confusion-matrix-tpr-fpr-fnr-tnr-1/'>confusion matrix</a> with predicted and original labels of test data points\n",
    "        <img src='https://i.imgur.com/IdN5Ctv.png' width=300px><dd>-plot the confusion matrix in heatmaps, while plotting the confusion matrix go through the <a href='https://stackoverflow.com/questions/61748441/how-to-fix-the-values-displayed-in-a-confusion-matrix-in-exponential-form-to-nor'>link </a>\n",
    "</dd></li>\n",
    "        </ul>\n",
    "<li>find the top 20 features from either from feature <font color='red'>Set 1</font> or feature <font color='red'>Set 2</font> using values of `feature_log_prob_ ` parameter of `MultinomialNB` \n",
    "(https://scikit-learn.org/stable/modules/generated/sklearn.naive_bayes.MultinomialNB.html) and print <strong>BOTH</strong> positive as well as negative corresponding feature names. <dd> - go through the <a href='https://imgur.com/mWvE7gj'>link </a> </dd>\n",
    "    </li>\n",
    "    <li>You need to summarize the results at the end of the notebook, summarize it in the table format\n",
    "        <img src='http://i.imgur.com/YVpIGGE.jpg' width=400px>\n",
    "    </li>\n",
    "</ol>"
   ]
  },
  {
   "cell_type": "code",
   "execution_count": 1,
   "metadata": {
    "id": "chpSjDaXm9KG"
   },
   "outputs": [],
   "source": [
    "%matplotlib inline\n",
    "import warnings\n",
    "warnings.filterwarnings(\"ignore\")\n",
    "\n",
    "import pandas as pd\n",
    "import numpy as np\n",
    "import nltk\n",
    "import matplotlib.pyplot as plt\n",
    "import seaborn as sns\n",
    "from sklearn.feature_extraction.text import TfidfVectorizer\n",
    "from sklearn.feature_extraction.text import CountVectorizer\n",
    "from sklearn.metrics import confusion_matrix\n",
    "from sklearn import metrics\n",
    "from sklearn.metrics import roc_curve, auc\n",
    "import pandas"
   ]
  },
  {
   "cell_type": "markdown",
   "metadata": {
    "id": "inzYCIaib3c3"
   },
   "source": [
    "<h1>2. Naive Bayes </h1>"
   ]
  },
  {
   "cell_type": "markdown",
   "metadata": {
    "id": "FYqCIxzFb3c5"
   },
   "source": [
    "## 1.1 Loading Data"
   ]
  },
  {
   "cell_type": "code",
   "execution_count": 2,
   "metadata": {
    "id": "dA1jknyqb3c_"
   },
   "outputs": [
    {
     "data": {
      "text/plain": [
       "(100000, 9)"
      ]
     },
     "execution_count": 2,
     "metadata": {},
     "output_type": "execute_result"
    }
   ],
   "source": [
    "#make sure you are loading atleast 50k datapoints\n",
    "#you can work with features of preprocessed_data.csv for the assignment.\n",
    "# If you want to add more features, you can add. (This is purely optional, not mandatory)\n",
    "data = pandas.read_csv('preprocessed_data.csv')\n",
    "\n",
    "project_data = data.sample(n = 100000) \n",
    "\n",
    "project_data.shape"
   ]
  },
  {
   "cell_type": "code",
   "execution_count": 3,
   "metadata": {},
   "outputs": [
    {
     "data": {
      "text/plain": [
       "(109248, 17)"
      ]
     },
     "execution_count": 3,
     "metadata": {},
     "output_type": "execute_result"
    }
   ],
   "source": [
    "df = pd.read_csv('train_data.csv')\n",
    "df.shape"
   ]
  },
  {
   "cell_type": "code",
   "execution_count": 4,
   "metadata": {
    "id": "i-PyprDNb3dI"
   },
   "outputs": [
    {
     "data": {
      "text/plain": [
       "(100000, 9)"
      ]
     },
     "execution_count": 4,
     "metadata": {},
     "output_type": "execute_result"
    }
   ],
   "source": [
    "## taking random samples of 100k datapoints\n",
    "project_data = data.sample(n = 100000) \n",
    "project_data.shape"
   ]
  },
  {
   "cell_type": "markdown",
   "metadata": {},
   "source": [
    "###  Pre-Processing of Project Titles"
   ]
  },
  {
   "cell_type": "code",
   "execution_count": 5,
   "metadata": {},
   "outputs": [],
   "source": [
    "# https://stackoverflow.com/a/47091490/4084039\n",
    "\n",
    "import re\n",
    "def deconstructed(phrase):\n",
    "    # specific\n",
    "    phrase = re.sub(r\"won't\", \"will not\", phrase)\n",
    "    phrase = re.sub(r\"can\\'t\", \"can not\", phrase)\n",
    "\n",
    "    # general\n",
    "    phrase = re.sub(r\"n\\'t\", \" not\", phrase)\n",
    "    phrase = re.sub(r\"\\'re\", \" are\", phrase)\n",
    "    phrase = re.sub(r\"\\'s\", \" is\", phrase)\n",
    "    phrase = re.sub(r\"\\'d\", \" would\", phrase)\n",
    "    phrase = re.sub(r\"\\'ll\", \" will\", phrase)\n",
    "    phrase = re.sub(r\"\\'t\", \" not\", phrase)\n",
    "    phrase = re.sub(r\"\\'ve\", \" have\", phrase)\n",
    "    phrase = re.sub(r\"\\'m\", \" am\", phrase)\n",
    "    return phrase"
   ]
  },
  {
   "cell_type": "code",
   "execution_count": 6,
   "metadata": {},
   "outputs": [],
   "source": [
    "# https://gist.github.com/sebleier/554280\n",
    "# we are removing the words from the stop words list: 'no', 'nor', 'not'\n",
    "stopwords= ['i', 'me', 'my', 'myself', 'we', 'our', 'ours', 'ourselves', 'you', \"you're\", \"you've\",\\\n",
    "            \"you'll\", \"you'd\", 'your', 'yours', 'yourself', 'yourselves', 'he', 'him', 'his', 'himself', \\\n",
    "            'she', \"she's\", 'her', 'hers', 'herself', 'it', \"it's\", 'its', 'itself', 'they', 'them', 'their',\\\n",
    "            'theirs', 'themselves', 'what', 'which', 'who', 'whom', 'this', 'that', \"that'll\", 'these', 'those', \\\n",
    "            'am', 'is', 'are', 'was', 'were', 'be', 'been', 'being', 'have', 'has', 'had', 'having', 'do', 'does', \\\n",
    "            'did', 'doing', 'a', 'an', 'the', 'and', 'but', 'if', 'or', 'because', 'as', 'until', 'while', 'of', \\\n",
    "            'at', 'by', 'for', 'with', 'about', 'against', 'between', 'into', 'through', 'during', 'before', 'after',\\\n",
    "            'above', 'below', 'to', 'from', 'up', 'down', 'in', 'out', 'on', 'off', 'over', 'under', 'again', 'further',\\\n",
    "            'then', 'once', 'here', 'there', 'when', 'where', 'why', 'how', 'all', 'any', 'both', 'each', 'few', 'more',\\\n",
    "            'most', 'other', 'some', 'such', 'only', 'own', 'same', 'so', 'than', 'too', 'very', \\\n",
    "            's', 't', 'can', 'will', 'just', 'don', \"don't\", 'should', \"should've\", 'now', 'd', 'll', 'm', 'o', 're', \\\n",
    "            've', 'y', 'ain', 'aren', \"aren't\", 'couldn', \"couldn't\", 'didn', \"didn't\", 'doesn', \"doesn't\", 'hadn',\\\n",
    "            \"hadn't\", 'hasn', \"hasn't\", 'haven', \"haven't\", 'isn', \"isn't\", 'ma', 'mightn', \"mightn't\", 'mustn',\\\n",
    "            \"mustn't\", 'needn', \"needn't\", 'shan', \"shan't\", 'shouldn', \"shouldn't\", 'wasn', \"wasn't\", 'weren', \"weren't\", \\\n",
    "            'won', \"won't\", 'wouldn', \"wouldn't\"]"
   ]
  },
  {
   "cell_type": "code",
   "execution_count": 7,
   "metadata": {},
   "outputs": [
    {
     "name": "stderr",
     "output_type": "stream",
     "text": [
      "100%|██████████| 109248/109248 [00:08<00:00, 12339.74it/s]\n"
     ]
    }
   ],
   "source": [
    "from tqdm import tqdm\n",
    "preprocessed_titles = []\n",
    "# tqdm is for printing the status bar\n",
    "for sentance in tqdm(df['project_title'].values):\n",
    "    sent = deconstructed(sentance)\n",
    "    sent = sent.replace('\\\\r', ' ')\n",
    "    sent = sent.replace('\\\\\"', ' ')\n",
    "    sent = sent.replace('\\\\n', ' ')\n",
    "    sent = re.sub('[^A-Za-z0-9]+', ' ', sent)\n",
    "    # https://gist.github.com/sebleier/554280\n",
    "    sent = ' '.join(e for e in sent.split() if e not in stopwords)\n",
    "    preprocessed_titles.append(sent.lower().strip())"
   ]
  },
  {
   "cell_type": "code",
   "execution_count": 8,
   "metadata": {},
   "outputs": [],
   "source": [
    "project_data['preprocessed_titles'] = preprocessed_titles[:100000]"
   ]
  },
  {
   "cell_type": "markdown",
   "metadata": {
    "id": "WtVV13Fyb3dH"
   },
   "source": [
    "<h2>1.2 Splitting data into Train and cross validation(or test): Stratified Sampling</h2>"
   ]
  },
  {
   "cell_type": "code",
   "execution_count": null,
   "metadata": {},
   "outputs": [],
   "source": [
    "# write your code in following steps for task 1\n",
    "# 1. Split your data.\n",
    "# 2. Perform Bag of Words Vectorization of text data.\n",
    "# 3. Perform tfidf vectorization of text data.\n",
    "# 4. perform one-hot encoding of categorical features.\n",
    "# 5. perform normalization of numerical features\n",
    "# 6. For set 1 stack up all the features using hstack()\n",
    "# 7. For set 2 stack up all the features using hstack()\n",
    "# 8. Perform hyperparameter tuning and represent the training and cross-validation AUC scores for different 'alpha' values, using a 2D line plot.\n",
    "# 9. Find the best hyperparameter 'alpha' and fit the model. Plot ROC-AUC curve(by obtaining the probabilities using 'predict proba' method)\n",
    "# 10. Plot confusion matrix based on the best threshold value\n",
    "# 11. Either for the model in set 1 or in set 2, print the top 20 features(you have to print the names, not the indexes) associated with the positive and negative classes each.\n",
    "# 12. Summarize your observations and compare both the models(ie., from set 1 and set 2) in terms of optimal hyperparameter value, train AUC and test AUC scores. \n",
    "# 13. You can use Prettytable or any other tabular format for comparison.\n",
    "\n",
    "\n",
    "# please write all the code with proper documentation, and proper titles for each subsection\n",
    "# go through documentations and blogs before you start coding\n",
    "# first figure out what to do, and then think about how to do.\n",
    "# reading and understanding error messages will be very much helpfull in debugging your code\n",
    "# when you plot any graph make sure you use \n",
    "    # a. Title, that describes your plot, this will be very helpful to the reader\n",
    "    # b. Legends if needed\n",
    "    # c. X-axis label\n",
    "    # d. Y-axis label\n",
    "    "
   ]
  },
  {
   "cell_type": "code",
   "execution_count": 9,
   "metadata": {},
   "outputs": [
    {
     "data": {
      "text/html": [
       "<div>\n",
       "<style scoped>\n",
       "    .dataframe tbody tr th:only-of-type {\n",
       "        vertical-align: middle;\n",
       "    }\n",
       "\n",
       "    .dataframe tbody tr th {\n",
       "        vertical-align: top;\n",
       "    }\n",
       "\n",
       "    .dataframe thead th {\n",
       "        text-align: right;\n",
       "    }\n",
       "</style>\n",
       "<table border=\"1\" class=\"dataframe\">\n",
       "  <thead>\n",
       "    <tr style=\"text-align: right;\">\n",
       "      <th></th>\n",
       "      <th>school_state</th>\n",
       "      <th>teacher_prefix</th>\n",
       "      <th>project_grade_category</th>\n",
       "      <th>teacher_number_of_previously_posted_projects</th>\n",
       "      <th>project_is_approved</th>\n",
       "      <th>clean_categories</th>\n",
       "      <th>clean_subcategories</th>\n",
       "      <th>essay</th>\n",
       "      <th>price</th>\n",
       "      <th>preprocessed_titles</th>\n",
       "    </tr>\n",
       "  </thead>\n",
       "  <tbody>\n",
       "    <tr>\n",
       "      <th>108970</th>\n",
       "      <td>ca</td>\n",
       "      <td>ms</td>\n",
       "      <td>grades_3_5</td>\n",
       "      <td>30</td>\n",
       "      <td>1</td>\n",
       "      <td>literacy_language math_science</td>\n",
       "      <td>literature_writing mathematics</td>\n",
       "      <td>our little school proud energetic positive 5th...</td>\n",
       "      <td>169.00</td>\n",
       "      <td>educational support english learners home</td>\n",
       "    </tr>\n",
       "    <tr>\n",
       "      <th>22017</th>\n",
       "      <td>nd</td>\n",
       "      <td>mrs</td>\n",
       "      <td>grades_prek_2</td>\n",
       "      <td>4</td>\n",
       "      <td>1</td>\n",
       "      <td>health_sports</td>\n",
       "      <td>gym_fitness health_wellness</td>\n",
       "      <td>my students creative eager active 6 7 year old...</td>\n",
       "      <td>512.56</td>\n",
       "      <td>wanted projector hungry learners</td>\n",
       "    </tr>\n",
       "    <tr>\n",
       "      <th>60588</th>\n",
       "      <td>ca</td>\n",
       "      <td>mrs</td>\n",
       "      <td>grades_prek_2</td>\n",
       "      <td>13</td>\n",
       "      <td>1</td>\n",
       "      <td>warmth care_hunger</td>\n",
       "      <td>warmth care_hunger</td>\n",
       "      <td>my first graders live described food dessert t...</td>\n",
       "      <td>376.79</td>\n",
       "      <td>soccer equipment awesome middle school students</td>\n",
       "    </tr>\n",
       "    <tr>\n",
       "      <th>61141</th>\n",
       "      <td>ny</td>\n",
       "      <td>ms</td>\n",
       "      <td>grades_prek_2</td>\n",
       "      <td>23</td>\n",
       "      <td>1</td>\n",
       "      <td>appliedlearning</td>\n",
       "      <td>earlydevelopment other</td>\n",
       "      <td>i kindergarten teacher 26 students yearn learn...</td>\n",
       "      <td>86.15</td>\n",
       "      <td>techie kindergarteners</td>\n",
       "    </tr>\n",
       "    <tr>\n",
       "      <th>27305</th>\n",
       "      <td>tx</td>\n",
       "      <td>mrs</td>\n",
       "      <td>grades_prek_2</td>\n",
       "      <td>11</td>\n",
       "      <td>1</td>\n",
       "      <td>health_sports</td>\n",
       "      <td>gym_fitness health_wellness</td>\n",
       "      <td>our school socioeconomically disadvantaged sch...</td>\n",
       "      <td>279.66</td>\n",
       "      <td>interactive math tools</td>\n",
       "    </tr>\n",
       "  </tbody>\n",
       "</table>\n",
       "</div>"
      ],
      "text/plain": [
       "       school_state teacher_prefix project_grade_category  \\\n",
       "108970           ca             ms             grades_3_5   \n",
       "22017            nd            mrs          grades_prek_2   \n",
       "60588            ca            mrs          grades_prek_2   \n",
       "61141            ny             ms          grades_prek_2   \n",
       "27305            tx            mrs          grades_prek_2   \n",
       "\n",
       "        teacher_number_of_previously_posted_projects  project_is_approved  \\\n",
       "108970                                            30                    1   \n",
       "22017                                              4                    1   \n",
       "60588                                             13                    1   \n",
       "61141                                             23                    1   \n",
       "27305                                             11                    1   \n",
       "\n",
       "                      clean_categories             clean_subcategories  \\\n",
       "108970  literacy_language math_science  literature_writing mathematics   \n",
       "22017                    health_sports     gym_fitness health_wellness   \n",
       "60588               warmth care_hunger              warmth care_hunger   \n",
       "61141                  appliedlearning          earlydevelopment other   \n",
       "27305                    health_sports     gym_fitness health_wellness   \n",
       "\n",
       "                                                    essay   price  \\\n",
       "108970  our little school proud energetic positive 5th...  169.00   \n",
       "22017   my students creative eager active 6 7 year old...  512.56   \n",
       "60588   my first graders live described food dessert t...  376.79   \n",
       "61141   i kindergarten teacher 26 students yearn learn...   86.15   \n",
       "27305   our school socioeconomically disadvantaged sch...  279.66   \n",
       "\n",
       "                                    preprocessed_titles  \n",
       "108970        educational support english learners home  \n",
       "22017                  wanted projector hungry learners  \n",
       "60588   soccer equipment awesome middle school students  \n",
       "61141                            techie kindergarteners  \n",
       "27305                            interactive math tools  "
      ]
     },
     "execution_count": 9,
     "metadata": {},
     "output_type": "execute_result"
    }
   ],
   "source": [
    "project_data.head()"
   ]
  },
  {
   "cell_type": "code",
   "execution_count": 10,
   "metadata": {},
   "outputs": [
    {
     "name": "stdout",
     "output_type": "stream",
     "text": [
      "Number of projects approved and not approved counts 1    84923\n",
      "0    15077\n",
      "Name: project_is_approved, dtype: int64\n",
      "Number of projects thar are approved for funding: 84923  ->  84.92 %\n",
      "Number of projects thar are not approved for funding:  15077  ->  15.08 %\n"
     ]
    }
   ],
   "source": [
    "projects_approved_counts = project_data['project_is_approved'].value_counts()\n",
    "print(\"Number of projects approved and not approved counts\",projects_approved_counts)\n",
    "\n",
    "print(\"Number of projects thar are approved for funding:\", projects_approved_counts[1],\" -> \",round(projects_approved_counts[1]/(projects_approved_counts[1]+projects_approved_counts[0])*100,2),\"%\")\n",
    "print(\"Number of projects thar are not approved for funding: \", projects_approved_counts[0],\" -> \",round(projects_approved_counts[0]/(projects_approved_counts[1]+projects_approved_counts[0])*100,2),\"%\")\n"
   ]
  },
  {
   "cell_type": "code",
   "execution_count": 11,
   "metadata": {},
   "outputs": [
    {
     "name": "stdout",
     "output_type": "stream",
     "text": [
      "x_train:  (80000, 10)\n",
      "x_test :  (20000, 10)\n",
      "y_train:  (80000,)\n",
      "y_test :  (20000,)\n"
     ]
    }
   ],
   "source": [
    "# Split the dataset \n",
    "# 1) If you want to apply simple cross-validation, split the dataset into 3 parts (ie., train, CV and test sets)\n",
    "# 2) If you want to apply K-fold CV (or) GridSearch Cross Validation (or) Randomized Search Cross Validation, just split the dataset into 2 parts (ie., train and test sets)\n",
    "\n",
    "from sklearn.model_selection import train_test_split\n",
    "x_train,x_test,y_train,y_test=train_test_split(\n",
    "    project_data,\n",
    "    project_data['project_is_approved'],\n",
    "    test_size=0.2,\n",
    "    random_state=42,\n",
    "    stratify=project_data[['project_is_approved']])\n",
    "\n",
    "print(\"x_train: \",x_train.shape)\n",
    "print(\"x_test : \",x_test.shape)\n",
    "print(\"y_train: \",y_train.shape)\n",
    "print(\"y_test : \",y_test.shape)"
   ]
  },
  {
   "cell_type": "code",
   "execution_count": 12,
   "metadata": {},
   "outputs": [
    {
     "name": "stdout",
     "output_type": "stream",
     "text": [
      "X_TRAIN-------------------------\n",
      "Number of projects that are approved for funding     67938  ->  84.92 %\n",
      "Number of projects that are not approved for funding  12062  ->  15.08 %\n",
      "\n",
      "\n",
      "X_TEST--------------------------\n",
      "Number of projects that are approved for funding     16985  ->  84.92 %\n",
      "Number of projects that are not approved for funding  3015  ->  15.08 %\n",
      "\n",
      "\n"
     ]
    }
   ],
   "source": [
    "print(\"X_TRAIN-------------------------\")\n",
    "x_train_y_value_counts = x_train['project_is_approved'].value_counts()\n",
    "print(\"Number of projects that are approved for funding    \", x_train_y_value_counts[1],\" -> \",round(x_train_y_value_counts[1]/(x_train_y_value_counts[1]+x_train_y_value_counts[0])*100,2),\"%\")\n",
    "print(\"Number of projects that are not approved for funding \",x_train_y_value_counts[0],\" -> \",round(x_train_y_value_counts[0]/(x_train_y_value_counts[1]+x_train_y_value_counts[0])*100,2),\"%\")\n",
    "print(\"\\n\")\n",
    "\n",
    "#y_value_counts = row1['project_is_approved'].value_counts()\n",
    "print(\"X_TEST--------------------------\")\n",
    "x_test_y_value_counts = x_test['project_is_approved'].value_counts()\n",
    "print(\"Number of projects that are approved for funding    \", x_test_y_value_counts[1],\" -> \",round(x_test_y_value_counts[1]/(x_test_y_value_counts[1]+x_test_y_value_counts[0])*100,2),\"%\")\n",
    "print(\"Number of projects that are not approved for funding \",x_test_y_value_counts[0],\" -> \",round(x_test_y_value_counts[0]/(x_test_y_value_counts[1]+x_test_y_value_counts[0])*100,2),\"%\")\n",
    "print(\"\\n\")"
   ]
  },
  {
   "cell_type": "markdown",
   "metadata": {
    "id": "EnZwVNULb3dO"
   },
   "source": [
    "<h2>1.3 Make Data Model Ready: encoding essay, and project_title</h2>"
   ]
  },
  {
   "cell_type": "markdown",
   "metadata": {},
   "source": [
    "Vectorize text data : Bag of words"
   ]
  },
  {
   "cell_type": "code",
   "execution_count": 13,
   "metadata": {},
   "outputs": [
    {
     "name": "stdout",
     "output_type": "stream",
     "text": [
      "Shape of matrix after BOW -> Essays: x_train:  (80000, 14722)\n",
      "Shape of matrix after BOW -> Essays: x_test :  (20000, 14722)\n"
     ]
    }
   ],
   "source": [
    "# Apply Bag of Words (BOW) vectorization on 'Preprocessed_Essay' \n",
    "# Apply Bag of Words (BOW) vectorization on 'Preprocessed_Title' (Optional)\n",
    "# We are considering only the words which appeared in at least 10 documents(rows or projects).\n",
    "vectorizer_essay_bow = CountVectorizer(min_df=10,max_features=20000)\n",
    "\n",
    "vectorizer_essay_bow.fit(x_train['essay'])\n",
    "\n",
    "x_train_essays_bow = vectorizer_essay_bow.transform(x_train['essay'])\n",
    "x_test_essays_bow  = vectorizer_essay_bow.transform(x_test['essay'])\n",
    "\n",
    "print(\"Shape of matrix after BOW -> Essays: x_train: \",x_train_essays_bow.shape)\n",
    "print(\"Shape of matrix after BOW -> Essays: x_test : \",x_test_essays_bow.shape)\n"
   ]
  },
  {
   "cell_type": "code",
   "execution_count": 14,
   "metadata": {},
   "outputs": [
    {
     "name": "stdout",
     "output_type": "stream",
     "text": [
      "Shape of matrix after BOW -> Title: x_train:  (80000, 2764)\n",
      "Shape of matrix after BOW -> Title: x_test :  (20000, 2764)\n"
     ]
    }
   ],
   "source": [
    "vectorizer_title_bow = CountVectorizer(min_df=10,max_features=20000)\n",
    "\n",
    "vectorizer_title_bow.fit(x_train['preprocessed_titles'])\n",
    "\n",
    "x_train_titles_bow = vectorizer_title_bow.transform(x_train['preprocessed_titles'])\n",
    "# x_cv_titles_bow    = vectorizer_title_bow.transform(x_cv['preprocessed_titles'])\n",
    "x_test_titles_bow  = vectorizer_title_bow.transform(x_test['preprocessed_titles'])\n",
    "\n",
    "print(\"Shape of matrix after BOW -> Title: x_train: \",x_train_titles_bow.shape)\n",
    "# print(\"Shape of matrix after BOW -> Title: x_cv   : \",x_cv_titles_bow.shape)\n",
    "print(\"Shape of matrix after BOW -> Title: x_test : \",x_test_titles_bow.shape)"
   ]
  },
  {
   "cell_type": "markdown",
   "metadata": {},
   "source": [
    "Vectorize text data: TFIDF vectorizer"
   ]
  },
  {
   "cell_type": "code",
   "execution_count": 15,
   "metadata": {},
   "outputs": [
    {
     "name": "stdout",
     "output_type": "stream",
     "text": [
      "Shape of matrix after TF-IDF -> Essay: x_train:  (80000, 14722)\n",
      "Shape of matrix after TF-IDF -> Essay: x_test :  (20000, 14722)\n"
     ]
    }
   ],
   "source": [
    "# Apply TF-IDF vectorization on 'Preprocessed_Essay' \n",
    "from sklearn.feature_extraction.text import TfidfVectorizer\n",
    "vectorizer_essay_tfidf = TfidfVectorizer(min_df=10,max_features=20000)\n",
    "\n",
    "vectorizer_essay_tfidf.fit(x_train['essay'])\n",
    "\n",
    "x_train_essays_tfidf = vectorizer_essay_tfidf.transform(x_train['essay'])\n",
    "x_test_essays_tfidf  = vectorizer_essay_tfidf.transform(x_test['essay'])\n",
    "\n",
    "print(\"Shape of matrix after TF-IDF -> Essay: x_train: \",x_train_essays_tfidf.shape)\n",
    "print(\"Shape of matrix after TF-IDF -> Essay: x_test : \",x_test_essays_tfidf.shape)"
   ]
  },
  {
   "cell_type": "code",
   "execution_count": 16,
   "metadata": {},
   "outputs": [
    {
     "name": "stdout",
     "output_type": "stream",
     "text": [
      "Shape of matrix after TF-IDF -> Title: x_train:  (80000, 2764)\n",
      "Shape of matrix after TF-IDF -> Title: x_test :  (20000, 2764)\n"
     ]
    }
   ],
   "source": [
    "# Apply TF-IDF vectorization on 'Preprocessed_Title' (Optional)\n",
    "from sklearn.feature_extraction.text import TfidfVectorizer\n",
    "vectorizer_title_tfidf = TfidfVectorizer(min_df=10,max_features=20000)\n",
    "\n",
    "vectorizer_title_tfidf.fit(x_train['preprocessed_titles'])\n",
    "\n",
    "x_train_titles_tfidf = vectorizer_title_tfidf.transform(x_train['preprocessed_titles'])\n",
    "x_test_titles_tfidf  = vectorizer_title_tfidf.transform(x_test['preprocessed_titles'])\n",
    "\n",
    "print(\"Shape of matrix after TF-IDF -> Title: x_train: \",x_train_titles_tfidf.shape)\n",
    "print(\"Shape of matrix after TF-IDF -> Title: x_test : \",x_test_titles_tfidf.shape)\n"
   ]
  },
  {
   "cell_type": "markdown",
   "metadata": {},
   "source": [
    "# "
   ]
  },
  {
   "cell_type": "markdown",
   "metadata": {},
   "source": [
    "Preprocessing: Project Subject Categories "
   ]
  },
  {
   "cell_type": "code",
   "execution_count": 17,
   "metadata": {},
   "outputs": [
    {
     "name": "stdout",
     "output_type": "stream",
     "text": [
      "done\n"
     ]
    }
   ],
   "source": [
    "from collections import Counter\n",
    "my_counter = Counter()\n",
    "for word in project_data['clean_categories'].values:\n",
    "    my_counter.update(word.split())\n",
    "\n",
    "cat_dict = dict(my_counter)\n",
    "sorted_cat_dict = dict(sorted(cat_dict.items(), key=lambda kv: kv[1]))\n",
    "print(\"done\")\n"
   ]
  },
  {
   "cell_type": "markdown",
   "metadata": {},
   "source": [
    "Preprocessing: Project Subject Sub Categories"
   ]
  },
  {
   "cell_type": "code",
   "execution_count": 18,
   "metadata": {},
   "outputs": [
    {
     "name": "stdout",
     "output_type": "stream",
     "text": [
      "{'literature_writing': 20280, 'mathematics': 25638, 'gym_fitness': 4157, 'health_wellness': 9368, 'warmth': 1264, 'care_hunger': 1264, 'earlydevelopment': 3898, 'other': 2207, 'literacy': 30808, 'specialneeds': 12527, 'visualarts': 5731, 'teamsports': 2008, 'appliedsciences': 9907, 'esl': 3991, 'socialsciences': 1754, 'environmentalscience': 5162, 'nutritioneducation': 1240, 'history_geography': 2911, 'civics_government': 730, 'music': 2888, 'performingarts': 1801, 'college_careerprep': 2361, 'charactereducation': 1874, 'health_lifescience': 3904, 'foreignlanguages': 806, 'economics': 255, 'financialliteracy': 523, 'extracurricular': 759, 'parentinvolvement': 623, 'communityservice': 407}\n",
      "done\n"
     ]
    }
   ],
   "source": [
    "my_counter = Counter()\n",
    "for word in project_data['clean_subcategories'].values:\n",
    "    my_counter.update(word.split())\n",
    "    \n",
    "sub_cat_dict = dict(my_counter)\n",
    "print(sub_cat_dict)\n",
    "sorted_sub_cat_dict = dict(sorted(sub_cat_dict.items(), key=lambda kv: kv[1]))\n",
    "print(\"done\")\n",
    "\n"
   ]
  },
  {
   "cell_type": "markdown",
   "metadata": {},
   "source": [
    "Preprocessing: Project Grade Category"
   ]
  },
  {
   "cell_type": "code",
   "execution_count": 19,
   "metadata": {},
   "outputs": [
    {
     "name": "stdout",
     "output_type": "stream",
     "text": [
      "done\n"
     ]
    }
   ],
   "source": [
    "# this code removes \" \" and \"-\". ie Grades 3-5 -> grage3to5\n",
    "\n",
    "clean_grades=[]\n",
    "for project_grade in project_data['project_grade_category'].values:\n",
    "    project_grade=str(project_grade).lower().strip().replace(' ','').replace('-','to')\n",
    "    \n",
    "    clean_grades.append(project_grade.strip())\n",
    "\n",
    "project_data['clean_project_grade_category']=clean_grades\n",
    "project_data.drop(['project_grade_category'],axis=1,inplace=True)\n",
    "\n",
    "my_counter = Counter()\n",
    "for word in project_data['clean_project_grade_category'].values:\n",
    "    my_counter.update(word.split())\n",
    "    \n",
    "grade_dict = dict(my_counter)\n",
    "sorted_project_grade_cat_dict = dict(sorted(grade_dict.items(), key=lambda kv: kv[1]))\n",
    "print(\"done\")"
   ]
  },
  {
   "cell_type": "markdown",
   "metadata": {},
   "source": [
    "# Vectorizing Categorical data: Clean Subject Categories"
   ]
  },
  {
   "cell_type": "code",
   "execution_count": 20,
   "metadata": {},
   "outputs": [
    {
     "name": "stdout",
     "output_type": "stream",
     "text": [
      "['warmth', 'care_hunger', 'history_civics', 'music_arts', 'appliedlearning', 'specialneeds', 'health_sports', 'math_science', 'literacy_language']\n",
      "Shape of matrix after one hot encoding -> categories: x_train:  (80000, 9)\n",
      "Shape of matrix after one hot encoding -> categories: x_test :  (20000, 9)\n"
     ]
    }
   ],
   "source": [
    "# we use count vectorizer to convert the values into one\n",
    "\n",
    "from sklearn.feature_extraction.text import CountVectorizer\n",
    "vectorizer_sub_cat = CountVectorizer(vocabulary= list(sorted_cat_dict.keys()), lowercase=False, binary=True)\n",
    "\n",
    "vectorizer_sub_cat.fit(x_train['clean_categories'].values)\n",
    "\n",
    "x_train_categories_one_hot = vectorizer_sub_cat.transform(x_train['clean_categories'].values)\n",
    "x_test_categories_one_hot  = vectorizer_sub_cat.transform(x_test['clean_categories'].values)\n",
    "\n",
    "\n",
    "print(vectorizer_sub_cat.get_feature_names())\n",
    "\n",
    "print(\"Shape of matrix after one hot encoding -> categories: x_train: \",x_train_categories_one_hot.shape)\n",
    "print(\"Shape of matrix after one hot encoding -> categories: x_test : \",x_test_categories_one_hot.shape)"
   ]
  },
  {
   "cell_type": "markdown",
   "metadata": {},
   "source": [
    "Vectorizing Categorical data: Clean Subject Sub-Categories"
   ]
  },
  {
   "cell_type": "code",
   "execution_count": 21,
   "metadata": {},
   "outputs": [
    {
     "name": "stdout",
     "output_type": "stream",
     "text": [
      "['economics', 'communityservice', 'financialliteracy', 'parentinvolvement', 'civics_government', 'extracurricular', 'foreignlanguages', 'nutritioneducation', 'warmth', 'care_hunger', 'socialsciences', 'performingarts', 'charactereducation', 'teamsports', 'other', 'college_careerprep', 'music', 'history_geography', 'earlydevelopment', 'health_lifescience', 'esl', 'gym_fitness', 'environmentalscience', 'visualarts', 'health_wellness', 'appliedsciences', 'specialneeds', 'literature_writing', 'mathematics', 'literacy']\n",
      "Shape of matrix after one hot encoding -> sub_categories: x_train:  (80000, 30)\n",
      "Shape of matrix after one hot encoding -> sub_categories: x_test :  (20000, 30)\n"
     ]
    }
   ],
   "source": [
    "# we use count vectorizer to convert the values into one \n",
    "sub_catogories = list(project_data['clean_subcategories'].values)\n",
    "\n",
    "vectorizer_sub_sub = CountVectorizer(vocabulary= list(sorted_sub_cat_dict.keys()), lowercase=False, binary=True)\n",
    "\n",
    "vectorizer_sub_sub.fit(x_train['clean_subcategories'].values)\n",
    "\n",
    "x_train_sub_categories_one_hot = vectorizer_sub_sub.transform(x_train['clean_subcategories'].values)\n",
    "x_test_sub_categories_one_hot  = vectorizer_sub_sub.transform(x_test['clean_subcategories'].values)\n",
    "\n",
    "print(vectorizer_sub_sub.get_feature_names())\n",
    "\n",
    "print(\"Shape of matrix after one hot encoding -> sub_categories: x_train: \",x_train_sub_categories_one_hot.shape)\n",
    "print(\"Shape of matrix after one hot encoding -> sub_categories: x_test : \",x_test_sub_categories_one_hot.shape)"
   ]
  },
  {
   "cell_type": "markdown",
   "metadata": {},
   "source": [
    "Vectorizing Categorical data: School State"
   ]
  },
  {
   "cell_type": "code",
   "execution_count": 22,
   "metadata": {},
   "outputs": [],
   "source": [
    "my_counter = Counter()\n",
    "for state in project_data['school_state'].values:\n",
    "    my_counter.update(state.split())\n",
    "    \n",
    "school_state_cat_dict = dict(my_counter)\n",
    "sorted_school_state_cat_dict = dict(sorted(school_state_cat_dict.items(), key=lambda kv: kv[1]))"
   ]
  },
  {
   "cell_type": "code",
   "execution_count": 23,
   "metadata": {},
   "outputs": [
    {
     "name": "stdout",
     "output_type": "stream",
     "text": [
      "['ak', 'al', 'ar', 'az', 'ca', 'co', 'ct', 'dc', 'de', 'fl', 'ga', 'hi', 'ia', 'id', 'il', 'in', 'ks', 'ky', 'la', 'ma', 'md', 'me', 'mi', 'mn', 'mo', 'ms', 'mt', 'nc', 'nd', 'ne', 'nh', 'nj', 'nm', 'nv', 'ny', 'oh', 'ok', 'or', 'pa', 'ri', 'sc', 'sd', 'tn', 'tx', 'ut', 'va', 'vt', 'wa', 'wi', 'wv', 'wy']\n",
      "Shape of matrix after one hot encoding -> school_state: x_train:  (80000, 51)\n",
      "Shape of matrix after one hot encoding -> school_state: x_test :  (20000, 51)\n"
     ]
    }
   ],
   "source": [
    "from scipy import sparse ## Exporting Sparse Matrix to NPZ File -> https://stackoverflow.com/questions/8955448/save-load-scipy-sparse-csr-matrix-in-portable-data-format\n",
    "statelist=list(project_data['school_state'].values)\n",
    "vectorizer_state = CountVectorizer(vocabulary=set(statelist), lowercase=False, binary=True)\n",
    "\n",
    "vectorizer_state.fit(x_train['school_state'])\n",
    "\n",
    "x_train_school_state_one_hot = vectorizer_state.transform(x_train['school_state'].values)\n",
    "# x_cv_school_state_one_hot    = vectorizer_state.transform(x_cv['school_state'].values)\n",
    "x_test_school_state_one_hot  = vectorizer_state.transform(x_test['school_state'].values)\n",
    "\n",
    "print(vectorizer_state.get_feature_names())\n",
    "\n",
    "print(\"Shape of matrix after one hot encoding -> school_state: x_train: \",x_train_school_state_one_hot.shape)\n",
    "# print(\"Shape of matrix after one hot encoding -> school_state: x_cv   : \",x_cv_school_state_one_hot.shape)\n",
    "print(\"Shape of matrix after one hot encoding -> school_state: x_test : \",x_test_school_state_one_hot.shape)"
   ]
  },
  {
   "cell_type": "markdown",
   "metadata": {},
   "source": [
    "Vectorizing Categorical data: Teacher Prefix"
   ]
  },
  {
   "cell_type": "code",
   "execution_count": 24,
   "metadata": {},
   "outputs": [
    {
     "data": {
      "text/plain": [
       "dict_keys(['dr', 'teacher', 'mr', 'ms', 'mrs'])"
      ]
     },
     "execution_count": 24,
     "metadata": {},
     "output_type": "execute_result"
    }
   ],
   "source": [
    "my_counter = Counter()\n",
    "for teacher_prefix in project_data['teacher_prefix'].values:\n",
    "    teacher_prefix = str(teacher_prefix).lower().replace('.','').strip()\n",
    "    \n",
    "    my_counter.update(teacher_prefix.split())\n",
    "teacher_prefix_cat_dict = dict(my_counter)\n",
    "sorted_teacher_prefix_cat_dict = dict(sorted(teacher_prefix_cat_dict.items(), key=lambda kv: kv[1]))\n",
    "\n",
    "sorted_teacher_prefix_cat_dict.keys()"
   ]
  },
  {
   "cell_type": "code",
   "execution_count": 25,
   "metadata": {},
   "outputs": [
    {
     "name": "stdout",
     "output_type": "stream",
     "text": [
      "['dr', 'teacher', 'mr', 'ms', 'mrs']\n",
      "Shape of matrix after one hot encoding -> prefix: x_train:  (80000, 5)\n",
      "Shape of matrix after one hot encoding -> prefix: x_test :  (20000, 5)\n"
     ]
    }
   ],
   "source": [
    "from sklearn.feature_extraction.text import CountVectorizer\n",
    "vectorizer_prefix = CountVectorizer(vocabulary= list(sorted_teacher_prefix_cat_dict.keys()), lowercase=False, binary=True)\n",
    "\n",
    "vectorizer_prefix.fit(x_train['teacher_prefix'].values)\n",
    "\n",
    "x_train_prefix_one_hot = vectorizer_prefix.transform(x_train['teacher_prefix'].values)\n",
    "# x_cv_prefix_one_hot    = vectorizer_prefix.transform(x_cv['teacher_prefix'].values)\n",
    "x_test_prefix_one_hot  = vectorizer_prefix.transform(x_test['teacher_prefix'].values)\n",
    "\n",
    "print(vectorizer_prefix.get_feature_names())\n",
    "\n",
    "print(\"Shape of matrix after one hot encoding -> prefix: x_train: \",x_train_prefix_one_hot.shape)\n",
    "# print(\"Shape of matrix after one hot encoding -> prefix: x_cv   : \",x_cv_prefix_one_hot.shape)\n",
    "print(\"Shape of matrix after one hot encoding -> prefix: x_test : \",x_test_prefix_one_hot.shape)"
   ]
  },
  {
   "cell_type": "markdown",
   "metadata": {},
   "source": [
    "Vectorizing Categorical data: Project Grade"
   ]
  },
  {
   "cell_type": "code",
   "execution_count": 26,
   "metadata": {},
   "outputs": [
    {
     "name": "stdout",
     "output_type": "stream",
     "text": [
      "['grades_9_12', 'grades_6_8', 'grades_3_5', 'grades_prek_2']\n",
      "Shape of matrix after one hot encoding -> project_grade: x_train :  (80000, 4)\n",
      "Shape of matrix after one hot encoding -> project_grade: x_test  :  (20000, 4)\n"
     ]
    }
   ],
   "source": [
    "from sklearn.feature_extraction.text import CountVectorizer\n",
    "vectorizer_grade = CountVectorizer(vocabulary= list(sorted_project_grade_cat_dict.keys()), lowercase=False, binary=True)\n",
    "\n",
    "vectorizer_grade.fit(x_train['project_grade_category'].values)\n",
    "\n",
    "x_train_grade_category_one_hot = vectorizer_grade.transform(x_train['project_grade_category'].values)\n",
    "# x_cv_grade_category_one_hot    = vectorizer_grade.transform(x_cv['clean_project_grade_category'].values)\n",
    "x_test_grade_category_one_hot  = vectorizer_grade.transform(x_test['project_grade_category'].values)\n",
    "\n",
    "print(vectorizer_grade.get_feature_names())\n",
    "\n",
    "print(\"Shape of matrix after one hot encoding -> project_grade: x_train : \",x_train_grade_category_one_hot.shape)\n",
    "# print(\"Shape of matrix after one hot encoding -> project_grade: x_cv    : \",x_cv_grade_category_one_hot.shape)\n",
    "print(\"Shape of matrix after one hot encoding -> project_grade: x_test  : \",x_test_grade_category_one_hot.shape)"
   ]
  },
  {
   "cell_type": "code",
   "execution_count": 27,
   "metadata": {},
   "outputs": [
    {
     "name": "stdout",
     "output_type": "stream",
     "text": [
      "<class 'scipy.sparse.csr.csr_matrix'>\n"
     ]
    },
    {
     "data": {
      "text/plain": [
       "array([[0, 0, 1, 0],\n",
       "       [0, 0, 0, 1],\n",
       "       [0, 0, 1, 0],\n",
       "       ...,\n",
       "       [0, 0, 0, 1],\n",
       "       [1, 0, 0, 0],\n",
       "       [0, 1, 0, 0]], dtype=int64)"
      ]
     },
     "execution_count": 27,
     "metadata": {},
     "output_type": "execute_result"
    }
   ],
   "source": [
    "print(type(x_train_grade_category_one_hot))\n",
    "\n",
    "x_train_grade_category_one_hot.toarray()"
   ]
  },
  {
   "cell_type": "markdown",
   "metadata": {},
   "source": [
    "# Apply Normalization on the numerical features using Normalizer()."
   ]
  },
  {
   "cell_type": "markdown",
   "metadata": {},
   "source": [
    "Normalizing Numerical data: Price"
   ]
  },
  {
   "cell_type": "code",
   "execution_count": 28,
   "metadata": {},
   "outputs": [
    {
     "name": "stdout",
     "output_type": "stream",
     "text": [
      "Shape of matrix after normalization -> Teacher Prefix: x_train:  (80000, 1)\n",
      "Shape of matrix after normalization -> Teacher Prefix: x_test :  (20000, 1)\n"
     ]
    }
   ],
   "source": [
    "from sklearn.preprocessing import Normalizer\n",
    "normalizer = Normalizer()\n",
    "# normalizer.fit(X_train['price'].values)\n",
    "# this will rise an error Expected 2D array, got 1D array instead: \n",
    "# array=[105.22 215.96  96.01 ... 368.98  80.53 709.67].\n",
    "# Reshape your data either using \n",
    "# array.reshape(-1, 1) if your data has a single feature \n",
    "# array.reshape(1, -1)  if it contains a single sample.\n",
    "normalizer.fit(x_train['price'].values.reshape(-1,1))\n",
    "\n",
    "x_train_price_normalized = normalizer.transform(x_train['price'].values.reshape(-1,1))\n",
    "#X_cv_price_norm = normalizer.transform(x_cv['price'].values.reshape(-1,1))\n",
    "x_test_price_normalized = normalizer.transform(x_test['price'].values.reshape(-1,1))\n",
    "\n",
    "print(\"Shape of matrix after normalization -> Teacher Prefix: x_train: \",x_train_price_normalized.shape)\n",
    "#print(\"Shape of matrix after normalization -> Teacher Prefix: x_cv   : \",x_cv_prefix_one_hot.shape)\n",
    "print(\"Shape of matrix after normalization -> Teacher Prefix: x_test : \",x_test_price_normalized.shape)"
   ]
  },
  {
   "cell_type": "code",
   "execution_count": 29,
   "metadata": {},
   "outputs": [
    {
     "name": "stdout",
     "output_type": "stream",
     "text": [
      "Shape of matrix after normalization -> Teacher Prefix: x_train:  (80000, 1)\n",
      "Shape of matrix after normalization -> Teacher Prefix: x_test :  (20000, 1)\n"
     ]
    }
   ],
   "source": [
    "from sklearn.preprocessing import Normalizer\n",
    "normalizer = Normalizer()\n",
    "# normalizer.fit(X_train['price'].values)\n",
    "# this will rise an error Expected 2D array, got 1D array instead: \n",
    "# array=[105.22 215.96  96.01 ... 368.98  80.53 709.67].\n",
    "# Reshape your data either using \n",
    "# array.reshape(-1, 1) if your data has a single feature \n",
    "# array.reshape(1, -1)  if it contains a single sample.\n",
    "normalizer.fit(x_train['teacher_number_of_previously_posted_projects'].values.reshape(-1,1))\n",
    "\n",
    "x_train_teacher_previous_proj_normalized = normalizer.transform(x_train['teacher_number_of_previously_posted_projects'].values.reshape(-1,1))\n",
    "#X_cv_price_norm = normalizer.transform(x_cv['price'].values.reshape(-1,1))\n",
    "x_test_teacher_previous_proj_normalized = normalizer.transform(x_test['teacher_number_of_previously_posted_projects'].values.reshape(-1,1))\n",
    "\n",
    "print(\"Shape of matrix after normalization -> Teacher Prefix: x_train: \",x_train_teacher_previous_proj_normalized.shape)\n",
    "#print(\"Shape of matrix after normalization -> Teacher Prefix: x_cv   : \",x_cv_prefix_one_hot.shape)\n",
    "print(\"Shape of matrix after normalization -> Teacher Prefix: x_test : \",x_test_teacher_previous_proj_normalized.shape)"
   ]
  },
  {
   "cell_type": "markdown",
   "metadata": {
    "id": "bGy86kgHb3dX"
   },
   "source": [
    "<h2>1.4 Make Data Model Ready: encoding numerical, categorical features</h2>"
   ]
  },
  {
   "cell_type": "markdown",
   "metadata": {},
   "source": [
    "Set 1: categorical, numerical features + project_title(BOW) + preprocessed_essay (BOW)\n",
    "Merging All ONE HOT with BOW (Title and Essay) features"
   ]
  },
  {
   "cell_type": "code",
   "execution_count": 30,
   "metadata": {
    "id": "EfXkofX1b3da"
   },
   "outputs": [
    {
     "name": "stdout",
     "output_type": "stream",
     "text": [
      "Type -> One Hot -> x_train:  <class 'scipy.sparse.coo.coo_matrix'>\n",
      "Type -> One Hot -> x_test :  <class 'scipy.sparse.coo.coo_matrix'>\n",
      "\n",
      "\n",
      "Shape -> One Hot -> x_train:  (80000, 101)\n",
      "Shape -> One Hot -> x_test :  (20000, 101)\n"
     ]
    }
   ],
   "source": [
    "# Apply One-Hot Encoding on the categorical features either using OneHotEncoder() (or) CountVectorizer(binary=True)\n",
    "from scipy.sparse import hstack \n",
    "\n",
    "x_train_onehot = hstack((x_train_categories_one_hot, x_train_sub_categories_one_hot, x_train_school_state_one_hot, x_train_prefix_one_hot, x_train_grade_category_one_hot, x_train_price_normalized, x_train_teacher_previous_proj_normalized))\n",
    "\n",
    "x_test_onehot  = hstack((x_test_categories_one_hot, x_test_sub_categories_one_hot, x_test_school_state_one_hot, x_test_prefix_one_hot, x_test_grade_category_one_hot, x_test_price_normalized, x_test_teacher_previous_proj_normalized))\n",
    "\n",
    "print(\"Type -> One Hot -> x_train: \",type(x_train_onehot))   \n",
    "print(\"Type -> One Hot -> x_test : \",type(x_test_onehot))  \n",
    "\n",
    "print(\"\\n\") \n",
    "\n",
    "print(\"Shape -> One Hot -> x_train: \",x_train_onehot.shape)\n",
    "print(\"Shape -> One Hot -> x_test : \",x_test_onehot.shape)"
   ]
  },
  {
   "cell_type": "code",
   "execution_count": 31,
   "metadata": {},
   "outputs": [
    {
     "name": "stdout",
     "output_type": "stream",
     "text": [
      "Type -> One Hot BOW -> x_train_cv_test:  <class 'scipy.sparse.csr.csr_matrix'>\n",
      "Type -> One Hot BOW -> x_test         :  <class 'scipy.sparse.csr.csr_matrix'>\n",
      "\n",
      "\n",
      "Shape -> One Hot BOW -> x_train_cv_test:  (80000, 17587)\n",
      "Shape -> One Hot BOW -> x_test         :  (20000, 17587)\n"
     ]
    }
   ],
   "source": [
    "x_train_onehot_bow = hstack((x_train_onehot,x_train_titles_bow,x_train_essays_bow)).tocsr()\n",
    "# x_cv_onehot_bow    = hstack((x_cv_onehot, x_cv_titles_bow, x_cv_essays_bow)).tocsr()\n",
    "x_test_onehot_bow  = hstack((x_test_onehot, x_test_titles_bow, x_test_essays_bow)).tocsr()\n",
    "print(\"Type -> One Hot BOW -> x_train_cv_test: \",type(x_train_onehot_bow))\n",
    "# print(\"Type -> One Hot BOW -> cv             : \",type(x_cv_onehot_bow))\n",
    "print(\"Type -> One Hot BOW -> x_test         : \",type(x_test_onehot_bow))\n",
    "print(\"\\n\")\n",
    "print(\"Shape -> One Hot BOW -> x_train_cv_test: \",x_train_onehot_bow.shape)\n",
    "# print(\"Shape -> One Hot BOW -> cv             : \",x_cv_onehot_bow.shape)\n",
    "print(\"Shape -> One Hot BOW -> x_test         : \",x_test_onehot_bow.shape)"
   ]
  },
  {
   "cell_type": "markdown",
   "metadata": {},
   "source": [
    "Set 2: categorical, numerical features + project_title(TFIDF)+ preprocessed_essay (TFIDF)\n",
    "Merging All ONE HOT with TF-IDF (Title and Essay) features"
   ]
  },
  {
   "cell_type": "code",
   "execution_count": 32,
   "metadata": {},
   "outputs": [
    {
     "name": "stdout",
     "output_type": "stream",
     "text": [
      "Type -> One Hot TFIDF -> x_train_cv_test:  <class 'scipy.sparse.csr.csr_matrix'>\n",
      "Type -> One Hot TFIDF -> x_test         :  <class 'scipy.sparse.csr.csr_matrix'>\n",
      "\n",
      "\n",
      "Shape -> One Hot TFIDF -> x_train_cv_test:  (80000, 17587)\n",
      "Shape -> One Hot TFIDF -> x_test         :  (20000, 17587)\n"
     ]
    }
   ],
   "source": [
    "x_train_onehot_tfidf = hstack((x_train_onehot,x_train_titles_tfidf, x_train_essays_tfidf)).tocsr()\n",
    "# x_cv_onehot_tfidf    = hstack((x_cv_onehot,x_cv_titles_tfidf, x_cv_essays_tfidf)).tocsr()\n",
    "x_test_onehot_tfidf  = hstack((x_test_onehot,x_test_titles_tfidf, x_test_essays_tfidf)).tocsr()\n",
    "print(\"Type -> One Hot TFIDF -> x_train_cv_test: \",type(x_train_onehot_tfidf))\n",
    "# print(\"Type -> One Hot TFIDF -> cv             : \",type(x_cv_onehot_tfidf))\n",
    "print(\"Type -> One Hot TFIDF -> x_test         : \",type(x_test_onehot_tfidf))\n",
    "print(\"\\n\")\n",
    "print(\"Shape -> One Hot TFIDF -> x_train_cv_test: \",x_train_onehot_tfidf.shape)\n",
    "# print(\"Shape -> One Hot TFIDF -> cv             : \",x_cv_onehot_tfidf.shape)\n",
    "print(\"Shape -> One Hot TFIDF -> x_test         : \",x_test_onehot_tfidf.shape)### SET 1:  Merging ONE HOT with BOW (Title and Essay) features"
   ]
  },
  {
   "cell_type": "markdown",
   "metadata": {
    "id": "yYHPYadYb3dh"
   },
   "source": [
    "<h2>1.5 Appling NB on different kind of featurization as mentioned in the instructions</h2>\n",
    "\n",
    "<br>Apply NB on different kind of featurization as mentioned in the instructions\n",
    "<br> For Every model that you work on make sure you do the step 2 and step 3 of instrucations"
   ]
  },
  {
   "cell_type": "markdown",
   "metadata": {
    "id": "DNwqilFxb3di"
   },
   "source": [
    "#### Set 1"
   ]
  },
  {
   "cell_type": "code",
   "execution_count": 33,
   "metadata": {},
   "outputs": [],
   "source": [
    "from sklearn.model_selection import GridSearchCV\n",
    "import matplotlib.pyplot as plt\n",
    "from sklearn.naive_bayes import MultinomialNB\n",
    "from sklearn.metrics import roc_auc_score\n",
    "import math"
   ]
  },
  {
   "cell_type": "code",
   "execution_count": 34,
   "metadata": {},
   "outputs": [
    {
     "name": "stdout",
     "output_type": "stream",
     "text": [
      "Fitting 10 folds for each of 20 candidates, totalling 200 fits\n"
     ]
    }
   ],
   "source": [
    "# Perform Hyperparameter Tuning.\n",
    "# Plot the training and the CV AUC scores, for different values of 'alpha', using a 2D line plot\n",
    "from sklearn.model_selection import GridSearchCV\n",
    "mnb_bow = MultinomialNB(class_prior=[0.5, 0.5])\n",
    "parameters = {'alpha':[0.00001, 0.00005, 0.0001, 0.0005, 0.001, 0.005, 0.01, 0.05, 0.1, 0.5, 1, 5, 10, 50, 100, 500, 1000, 2500, 5000, 10000]}\n",
    "clf = GridSearchCV(mnb_bow, parameters, cv= 10, scoring='roc_auc',verbose=1,return_train_score=True)\n",
    "# clf.fit(x_cv_onehot_bow, y_cv)\n",
    "clf.fit(x_train_onehot_bow,y_train)\n",
    "train_auc= clf.cv_results_['mean_train_score']\n",
    "train_auc_std= clf.cv_results_['std_train_score']\n",
    "cv_auc = clf.cv_results_['mean_test_score']\n",
    "cv_auc_std= clf.cv_results_['std_test_score']"
   ]
  },
  {
   "cell_type": "code",
   "execution_count": 35,
   "metadata": {},
   "outputs": [
    {
     "name": "stdout",
     "output_type": "stream",
     "text": [
      "BEST ALPHA:  0.5  BEST SCORE:  0.7078827182360783\n"
     ]
    }
   ],
   "source": [
    "# Obtain the optimal value for 'alpha' and using the obtained optimal 'alpha' value, fit a multinomial naive bayes model, on the train data,\n",
    "# Note: If you have split the datase into 3 parts (ie., train, cv and test sets) in the beginning, then the training datafor this final model would be (train set + cv set)\n",
    "# Make class label and probability predictions on the train and test data.\n",
    "bestAlpha_1=clf.best_params_['alpha']\n",
    "bestScore_1=clf.best_score_\n",
    "print(\"BEST ALPHA: \",clf.best_params_['alpha'],\" BEST SCORE: \",clf.best_score_)"
   ]
  },
  {
   "cell_type": "code",
   "execution_count": 36,
   "metadata": {},
   "outputs": [
    {
     "name": "stderr",
     "output_type": "stream",
     "text": [
      "100%|██████████| 20/20 [00:00<00:00, 66208.43it/s]\n"
     ]
    },
    {
     "data": {
      "image/png": "[encoded data removed]",
      "text/plain": [
       "<Figure size 720x360 with 1 Axes>"
      ]
     },
     "metadata": {
      "needs_background": "light"
     },
     "output_type": "display_data"
    }
   ],
   "source": [
    "# Plot the ROC-AUC curves using the probability predictions made on train and test data.\n",
    "alphas = [0.00001, 0.00005, 0.0001, 0.0005, 0.001, 0.005, 0.01, 0.05, 0.1, 0.5, 1, 5, 10, 50, 100, 500, 1000, 2500, 5000, 10000]\n",
    "log_alphas =[]\n",
    "for a in tqdm(alphas):\n",
    "    #b = math.log(a)\n",
    "    b = np.log10(a)\n",
    "    log_alphas.append(b)\n",
    "plt.figure(figsize=(10,5))\n",
    "plt.plot(log_alphas, train_auc, label='Train AUC')\n",
    "# this code is copied from here: https://stackoverflow.com/a/48803361/4084039\n",
    "plt.gca().fill_between(log_alphas,train_auc - train_auc_std,train_auc + train_auc_std,alpha=0.3,color='darkblue')\n",
    "plt.plot(log_alphas, cv_auc, label='CV AUC')\n",
    "# this code is copied from here: https://stackoverflow.com/a/48803361/4084039\n",
    "plt.gca().fill_between(log_alphas,cv_auc - cv_auc_std,cv_auc + cv_auc_std,alpha=0.3,color='darkorange')\n",
    "plt.scatter(log_alphas, train_auc, label='Train AUC points')\n",
    "plt.scatter(log_alphas, cv_auc, label='CV AUC points')\n",
    "plt.legend()\n",
    "plt.xlabel(\"alpha: hyperparameter\")\n",
    "plt.ylabel(\"AUC\")\n",
    "plt.title(\"alpha: hyperparameter v/s AUC\")\n",
    "plt.grid()\n",
    "plt.show()"
   ]
  },
  {
   "cell_type": "markdown",
   "metadata": {},
   "source": [
    "TESTING WITH BEST HYPERPARAMETER VALUE ON SET 1"
   ]
  },
  {
   "cell_type": "code",
   "execution_count": 37,
   "metadata": {},
   "outputs": [
    {
     "data": {
      "image/png": "[encoded data removed]",
      "text/plain": [
       "<Figure size 432x288 with 1 Axes>"
      ]
     },
     "metadata": {
      "needs_background": "light"
     },
     "output_type": "display_data"
    }
   ],
   "source": [
    "from sklearn.metrics import roc_curve, auc\n",
    "mnb_bow = MultinomialNB(alpha = bestAlpha_1,class_prior=[0.5, 0.5])\n",
    "mnb_bow.fit(x_train_onehot_bow, y_train)\n",
    "# roc_auc_score(y_true, y_score) the 2nd parameter should be probability estimates of the positive class\n",
    "# not the predicted outputs\n",
    "# y_train_pred = batch_predict(mnb_bow_testModel, x_train_onehot_bow)\n",
    "y_train_pred=mnb_bow.predict_proba(x_train_onehot_bow)[:,1]\n",
    "# y_test_pred = batch_predict(mnb_bow, x_test_onehot_bow)\n",
    "y_test_pred=mnb_bow.predict_proba(x_test_onehot_bow)[:,1]\n",
    "\n",
    "train_fpr, train_tpr, tr_thresholds = roc_curve(y_train, y_train_pred)\n",
    "test_fpr, test_tpr, te_thresholds = roc_curve(y_test, y_test_pred)\n",
    "\n",
    "ax = plt.subplot()\n",
    "\n",
    "auc_set1_train=auc(train_fpr, train_tpr)\n",
    "auc_set1_test=auc(test_fpr, test_tpr)\n",
    "\n",
    "\n",
    "ax.plot(train_fpr, train_tpr, label=\"Train AUC =\"+str(auc(train_fpr, train_tpr)))\n",
    "ax.plot(test_fpr, test_tpr, label=\"Test AUC =\"+str(auc(test_fpr, test_tpr)))\n",
    "plt.legend()\n",
    "plt.xlabel(\"False Positive Rate(FPR)\")\n",
    "plt.ylabel(\"True Positive Rate(TPR)\")\n",
    "plt.title(\"AUC\")\n",
    "plt.grid(b=True, which='major', color='k', linestyle=':')\n",
    "ax.set_facecolor(\"white\")\n",
    "plt.show()"
   ]
  },
  {
   "cell_type": "code",
   "execution_count": 38,
   "metadata": {},
   "outputs": [],
   "source": [
    "# Pick the best threshold among the probability estimates, such that it has to yield maximum value for TPR*(1-FPR)\n",
    "# Plot the confusion matrices(each for train and test data) afer encoding the predicted class labels, on the basis of the best threshod probability estimate.\n",
    "def predict(proba, threshould, fpr, tpr):\n",
    "    threshold = threshould[np.argmax(tpr*(1-fpr))]\n",
    "    # (tpr*(1-fpr)) will be maximum if your fpr is very low and tpr is very high\n",
    "    print(\"the maximum value of tpr*(1-fpr)\", max(tpr*(1-fpr)), \"for threshold\", np.round(threshold,3))\n",
    "    predictions = []\n",
    "    for i in proba:\n",
    "        if i>=threshold:\n",
    "            predictions.append(1)\n",
    "        else:\n",
    "            predictions.append(0)\n",
    "    return predictions"
   ]
  },
  {
   "cell_type": "markdown",
   "metadata": {},
   "source": [
    "SET 1 Confusion Matrix: Train"
   ]
  },
  {
   "cell_type": "code",
   "execution_count": 39,
   "metadata": {},
   "outputs": [
    {
     "name": "stdout",
     "output_type": "stream",
     "text": [
      "====================================================================================================\n",
      "Train confusion matrix\n",
      "the maximum value of tpr*(1-fpr) 0.5155067624128643 for threshold 0.449\n",
      "[[ 8589  3473]\n",
      " [18754 49184]]\n",
      "the maximum value of tpr*(1-fpr) 0.5155067624128643 for threshold 0.449\n"
     ]
    },
    {
     "data": {
      "text/plain": [
       "<AxesSubplot:>"
      ]
     },
     "execution_count": 39,
     "metadata": {},
     "output_type": "execute_result"
    },
    {
     "data": {
      "image/png": "[encoded data removed]",
      "text/plain": [
       "<Figure size 432x288 with 2 Axes>"
      ]
     },
     "metadata": {},
     "output_type": "display_data"
    }
   ],
   "source": [
    "print(\"=\"*100)\n",
    "from sklearn.metrics import confusion_matrix\n",
    "print(\"Train confusion matrix\")\n",
    "print(confusion_matrix(y_train, predict(y_train_pred, tr_thresholds, train_fpr, train_tpr)))\n",
    "\n",
    "conf_matr_df_train = pd.DataFrame(confusion_matrix(y_train, predict(y_train_pred, tr_thresholds,train_fpr, train_tpr)), range(2),range(2))\n",
    "\n",
    "## Heatmaps -> https://likegeeks.com/seaborn-heatmap-tutorial/\n",
    "sns.set(font_scale=1.4)#for label size\n",
    "sns.heatmap(conf_matr_df_train, annot=True,annot_kws={\"size\": 26}, fmt='g',cmap=\"YlGnBu\")"
   ]
  },
  {
   "cell_type": "markdown",
   "metadata": {},
   "source": [
    "SET 1 Confusion Matrix: Test"
   ]
  },
  {
   "cell_type": "code",
   "execution_count": 40,
   "metadata": {},
   "outputs": [
    {
     "name": "stdout",
     "output_type": "stream",
     "text": [
      "====================================================================================================\n",
      "Test confusion matrix\n",
      "the maximum value of tpr*(1-fpr) 0.44339620707179445 for threshold 0.994\n",
      "[[ 2671   344]\n",
      " [11183  5802]]\n",
      "the maximum value of tpr*(1-fpr) 0.44339620707179445 for threshold 0.994\n"
     ]
    },
    {
     "data": {
      "text/plain": [
       "<AxesSubplot:>"
      ]
     },
     "execution_count": 40,
     "metadata": {},
     "output_type": "execute_result"
    },
    {
     "data": {
      "image/png": "[encoded data removed]",
      "text/plain": [
       "<Figure size 432x288 with 2 Axes>"
      ]
     },
     "metadata": {},
     "output_type": "display_data"
    }
   ],
   "source": [
    "print(\"=\"*100)\n",
    "print(\"Test confusion matrix\")\n",
    "print(confusion_matrix(y_test, predict(y_test_pred, tr_thresholds, test_fpr, test_tpr)))\n",
    "\n",
    "conf_matr_df_test = pd.DataFrame(confusion_matrix(y_test, predict(y_test_pred, tr_thresholds, test_fpr, test_tpr)), range(2),range(2))\n",
    "sns.set(font_scale=1.4)#for label size\n",
    "sns.heatmap(conf_matr_df_test, annot=True,annot_kws={\"size\": 16}, fmt='g')"
   ]
  },
  {
   "cell_type": "markdown",
   "metadata": {},
   "source": [
    "#### Set 2"
   ]
  },
  {
   "cell_type": "markdown",
   "metadata": {},
   "source": [
    "SET 2 Hyper parameter tuning to find best 'alpha' using GRIDSEARCHCV"
   ]
  },
  {
   "cell_type": "code",
   "execution_count": 41,
   "metadata": {},
   "outputs": [
    {
     "name": "stdout",
     "output_type": "stream",
     "text": [
      "Fitting 10 folds for each of 20 candidates, totalling 200 fits\n"
     ]
    }
   ],
   "source": [
    "# Perform Hyperparameter Tuning.\n",
    "# Plot the training and the CV AUC scores, for different values of 'alpha', using a 2D line plot\n",
    "\n",
    "from sklearn.model_selection import GridSearchCV\n",
    "mnb_tfidf = MultinomialNB(class_prior=[0.5, 0.5])\n",
    "parameters = {'alpha':[0.00001, 0.00005, 0.0001, 0.0005, 0.001, 0.005, 0.01, 0.05, 0.1, 0.5, 1, 5, 10, 50, 100, 500, 1000, 2500, 5000, 10000]}\n",
    "clf = GridSearchCV(mnb_tfidf, parameters, cv= 10, scoring='roc_auc',verbose=1,return_train_score=True)\n",
    "# clf.fit(x_cv_onehot_tfidf, y_cv)\n",
    "clf.fit(x_train_onehot_tfidf,y_train)\n",
    "train_auc= clf.cv_results_['mean_train_score']\n",
    "train_auc_std= clf.cv_results_['std_train_score']\n",
    "cv_auc = clf.cv_results_['mean_test_score']\n",
    "cv_auc_std= clf.cv_results_['std_test_score']"
   ]
  },
  {
   "cell_type": "code",
   "execution_count": 42,
   "metadata": {},
   "outputs": [
    {
     "name": "stdout",
     "output_type": "stream",
     "text": [
      "BEST ALPHA:  0.1  BEST SCORE:  0.6581752635138154\n"
     ]
    }
   ],
   "source": [
    "# Obtain the optimal value for 'alpha' and using the obtained optimal 'alpha' value, fit a multinomial naive bayes model, on the train data,\n",
    "# Note: If you have split the datase into 3 parts (ie., train, cv and test sets) in the beginning, then the training datafor this final model would be (train set + cv set)\n",
    "# Make class label and probability predictions on the train and test data.\n",
    "\n",
    "bestAlpha_2=clf.best_params_['alpha']\n",
    "bestScore_2=clf.best_score_\n",
    "print(\"BEST ALPHA: \",clf.best_params_['alpha'],\" BEST SCORE: \",clf.best_score_) #clf.best_estimator_.alpha"
   ]
  },
  {
   "cell_type": "code",
   "execution_count": 43,
   "metadata": {},
   "outputs": [
    {
     "name": "stderr",
     "output_type": "stream",
     "text": [
      "100%|██████████| 20/20 [00:00<00:00, 49902.49it/s]\n"
     ]
    },
    {
     "data": {
      "image/png": "[encoded data removed]",
      "text/plain": [
       "<Figure size 720x360 with 1 Axes>"
      ]
     },
     "metadata": {},
     "output_type": "display_data"
    }
   ],
   "source": [
    "# Plot the ROC-AUC curves using the probability predictions made on train and test data.\n",
    "alphas = [0.00001, 0.00005, 0.0001, 0.0005, 0.001, 0.005, 0.01, 0.05, 0.1, 0.5, 1, 5, 10, 50, 100, 500, 1000, 2500, 5000, 10000]\n",
    "log_alphas =[]\n",
    "for a in tqdm(alphas):\n",
    "    #b = math.log(a)\n",
    "    b = np.log10(a)\n",
    "    log_alphas.append(b)\n",
    "plt.figure(figsize=(10,5))\n",
    "plt.plot(log_alphas, train_auc, label='Train AUC')\n",
    "# this code is copied from here: https://stackoverflow.com/a/48803361/4084039\n",
    "plt.gca().fill_between(log_alphas,train_auc - train_auc_std,train_auc + train_auc_std,alpha=0.3,color='darkblue')\n",
    "plt.plot(log_alphas, cv_auc, label='CV AUC')\n",
    "# this code is copied from here: https://stackoverflow.com/a/48803361/4084039\n",
    "plt.gca().fill_between(log_alphas,cv_auc - cv_auc_std,cv_auc + cv_auc_std,alpha=0.3,color='darkorange')\n",
    "\n",
    "ax = plt.subplot()\n",
    "ax.scatter(log_alphas, train_auc, label='Train AUC points')\n",
    "ax.scatter(log_alphas, cv_auc, label='CV AUC points')\n",
    "plt.legend()\n",
    "plt.xlabel(\"alpha: hyperparameter\")\n",
    "plt.ylabel(\"AUC\")\n",
    "plt.title(\"alpha: hyperparameter v/s AUC\")\n",
    "plt.grid(b=True, which='major', color='k', linestyle=':')\n",
    "ax.set_facecolor(\"white\")\n",
    "plt.show()\n"
   ]
  },
  {
   "cell_type": "markdown",
   "metadata": {},
   "source": [
    "TESTING WITH BEST HYPERPARAMETER VALUE ON SET 2"
   ]
  },
  {
   "cell_type": "code",
   "execution_count": 44,
   "metadata": {},
   "outputs": [
    {
     "data": {
      "image/png": "[encoded data removed]",
      "text/plain": [
       "<Figure size 432x288 with 1 Axes>"
      ]
     },
     "metadata": {},
     "output_type": "display_data"
    }
   ],
   "source": [
    "from sklearn.metrics import roc_curve, auc\n",
    "mnb_tfidf = MultinomialNB(alpha = bestAlpha_2,class_prior=[0.5, 0.5])\n",
    "mnb_tfidf.fit(x_train_onehot_tfidf, y_train)\n",
    "# roc_auc_score(y_true, y_score) the 2nd parameter should be probability estimates of the positive class\n",
    "# not the predicted outputs\n",
    "# y_train_pred = batch_predict(mnb_tfidf, x_train_onehot_tfidf)\n",
    "# y_test_pred = batch_predict(mnb_tfidf, x_test_onehot_tfidf)\n",
    "y_train_pred=mnb_tfidf.predict_proba(x_train_onehot_tfidf)[:,1]\n",
    "y_test_pred=mnb_tfidf.predict_proba(x_test_onehot_tfidf)[:,1]\n",
    "\n",
    "train_fpr, train_tpr, tr_thresholds = roc_curve(y_train, y_train_pred)\n",
    "test_fpr, test_tpr, te_thresholds = roc_curve(y_test, y_test_pred)\n",
    "\n",
    "ax = plt.subplot()\n",
    "\n",
    "auc_set2_train=auc(train_fpr, train_tpr)\n",
    "auc_set2_test=auc(test_fpr, test_tpr)\n",
    "\n",
    "# plt.plot(train_fpr, train_tpr, label=\"Train AUC =\"+str(auc(train_fpr, train_tpr)))\n",
    "# plt.plot(test_fpr, test_tpr, label=\"Test AUC =\"+str(auc(test_fpr, test_tpr)))\n",
    "ax.plot(train_fpr, train_tpr, label=\"Train AUC =\"+str(auc(train_fpr, train_tpr)))\n",
    "ax.plot(test_fpr, test_tpr, label=\"Test AUC =\"+str(auc(test_fpr, test_tpr)))\n",
    "\n",
    "plt.legend()\n",
    "plt.xlabel(\"False Positive Rate(FPR)\")\n",
    "plt.ylabel(\"True Positive Rate(TPR)\")\n",
    "plt.title(\"AUC\")\n",
    "plt.grid(b=True, which='major', color='k', linestyle=':')\n",
    "ax.set_facecolor(\"white\")\n",
    "plt.show()"
   ]
  },
  {
   "cell_type": "code",
   "execution_count": 45,
   "metadata": {},
   "outputs": [],
   "source": [
    "# Pick the best threshold among the probability estimates, such that it has to yield maximum value for TPR*(1-FPR)\n",
    "# Plot the confusion matrices(each for train and test data) afer encoding the predicted class labels, on the basis of the best threshod probability estimate.\n",
    "def predict(proba, threshould, fpr, tpr):\n",
    "    threshold = threshould[np.argmax(tpr*(1-fpr))]\n",
    "    # (tpr*(1-fpr)) will be maximum if your fpr is very low and tpr is very high\n",
    "    print(\"the maximum value of tpr*(1-fpr)\", max(tpr*(1-fpr)), \"for threshold\", np.round(threshold,3))\n",
    "    predictions = []\n",
    "    for i in proba:\n",
    "        if i>= threshold:\n",
    "            predictions.append(1)\n",
    "        else:\n",
    "            predictions.append(0)\n",
    "    return predictions"
   ]
  },
  {
   "cell_type": "code",
   "execution_count": 46,
   "metadata": {},
   "outputs": [
    {
     "name": "stdout",
     "output_type": "stream",
     "text": [
      "====================================================================================================\n",
      "Train confusion matrix\n",
      "the maximum value of tpr*(1-fpr) 0.5081630078618943 for threshold 0.5\n",
      "[[ 8649  3413]\n",
      " [19791 48147]]\n",
      "the maximum value of tpr*(1-fpr) 0.5081630078618943 for threshold 0.5\n"
     ]
    },
    {
     "data": {
      "text/plain": [
       "<AxesSubplot:>"
      ]
     },
     "execution_count": 46,
     "metadata": {},
     "output_type": "execute_result"
    },
    {
     "data": {
      "image/png": "[encoded data removed]",
      "text/plain": [
       "<Figure size 432x288 with 2 Axes>"
      ]
     },
     "metadata": {},
     "output_type": "display_data"
    }
   ],
   "source": [
    "# Either from set 1 (or) set 2, print the names of the top 20 features associated with the positive and negative classes each. (You have to print the names of the features, but not the indexes)\n",
    "\n",
    "print(\"=\"*100)\n",
    "from sklearn.metrics import confusion_matrix\n",
    "print(\"Train confusion matrix\")\n",
    "print(confusion_matrix(y_train, predict(y_train_pred, tr_thresholds, train_fpr, train_tpr)))\n",
    "\n",
    "conf_matr_df_train = pd.DataFrame(confusion_matrix(y_train, predict(y_train_pred, tr_thresholds,train_fpr, train_tpr)), range(2),range(2))\n",
    "\n",
    "## Heatmaps -> https://likegeeks.com/seaborn-heatmap-tutorial/\n",
    "sns.set(font_scale=1.4)#for label size\n",
    "sns.heatmap(conf_matr_df_train, annot=True,annot_kws={\"size\": 26}, fmt='g',cmap=\"YlGnBu\")"
   ]
  },
  {
   "cell_type": "code",
   "execution_count": 47,
   "metadata": {},
   "outputs": [
    {
     "name": "stdout",
     "output_type": "stream",
     "text": [
      "====================================================================================================\n",
      "Test confusion matrix\n",
      "the maximum value of tpr*(1-fpr) 0.38804784828677724 for threshold 0.642\n",
      "[[ 2437   578]\n",
      " [10570  6415]]\n",
      "the maximum value of tpr*(1-fpr) 0.38804784828677724 for threshold 0.642\n"
     ]
    },
    {
     "data": {
      "text/plain": [
       "<AxesSubplot:>"
      ]
     },
     "execution_count": 47,
     "metadata": {},
     "output_type": "execute_result"
    },
    {
     "data": {
      "image/png": "[encoded data removed]",
      "text/plain": [
       "<Figure size 432x288 with 2 Axes>"
      ]
     },
     "metadata": {},
     "output_type": "display_data"
    }
   ],
   "source": [
    "print(\"=\"*100)\n",
    "print(\"Test confusion matrix\")\n",
    "print(confusion_matrix(y_test, predict(y_test_pred, tr_thresholds, test_fpr, test_tpr)))\n",
    "\n",
    "conf_matr_df_test = pd.DataFrame(confusion_matrix(y_test, predict(y_test_pred, tr_thresholds, test_fpr, test_tpr)), range(2),range(2))\n",
    "sns.set(font_scale=1.4)#for label size\n",
    "sns.heatmap(conf_matr_df_test, annot=True,annot_kws={\"size\": 16}, fmt='g')"
   ]
  },
  {
   "cell_type": "markdown",
   "metadata": {},
   "source": [
    "Top 10 important features of negative and positive class from SET 1(BOW)"
   ]
  },
  {
   "cell_type": "code",
   "execution_count": 48,
   "metadata": {},
   "outputs": [
    {
     "data": {
      "text/plain": [
       "17587"
      ]
     },
     "execution_count": 48,
     "metadata": {},
     "output_type": "execute_result"
    }
   ],
   "source": [
    "bow_features_names = []\n",
    "\n",
    "for feature in vectorizer_sub_cat.get_feature_names() :\n",
    "    bow_features_names.append(feature)\n",
    "\n",
    "for feature in vectorizer_sub_sub.get_feature_names() :\n",
    "    bow_features_names.append(feature)\n",
    "\n",
    "for feature in vectorizer_state.get_feature_names() :\n",
    "    bow_features_names.append(feature)\n",
    "\n",
    "for feature in vectorizer_grade.get_feature_names() :\n",
    "    bow_features_names.append(feature)\n",
    "\n",
    "for feature in vectorizer_prefix.get_feature_names() :\n",
    "    bow_features_names.append(feature)\n",
    "    \n",
    "for feature in vectorizer_essay_bow.get_feature_names() :\n",
    "    bow_features_names.append(feature)\n",
    "    \n",
    "for feature in vectorizer_title_bow.get_feature_names() :\n",
    "    bow_features_names.append(feature)\n",
    "    \n",
    "bow_features_names.append(\"price\")\n",
    "\n",
    "bow_features_names.append(\"teacher_number_of_previously_posted_projects\")\n",
    "\n",
    "len(bow_features_names)"
   ]
  },
  {
   "cell_type": "code",
   "execution_count": 49,
   "metadata": {},
   "outputs": [],
   "source": [
    "totalFeatureNamesBow=len(bow_features_names)"
   ]
  },
  {
   "cell_type": "code",
   "execution_count": 50,
   "metadata": {},
   "outputs": [
    {
     "data": {
      "text/plain": [
       "(80000, 17587)"
      ]
     },
     "execution_count": 50,
     "metadata": {},
     "output_type": "execute_result"
    }
   ],
   "source": [
    "x_train_onehot_bow.shape"
   ]
  },
  {
   "cell_type": "code",
   "execution_count": 51,
   "metadata": {},
   "outputs": [
    {
     "name": "stdout",
     "output_type": "stream",
     "text": [
      "Top 10 features from negative class:\n",
      "['dirt' 'the' 'professionals' 'window' 'rock' 'textbook' 'footsteps'\n",
      " 'footrest' 'progressive' 'inclusion']\n",
      "--------------------------------------------------\n",
      "Top 10 features from positive class:\n",
      "['paradise' 'transformational' 'correlated' 'games' 'adjective' 'versus'\n",
      " 'deck' 'grant' '50th' 'supplemented']\n"
     ]
    }
   ],
   "source": [
    "neg_class_prob_sorted = mnb_bow.feature_log_prob_[0, :].argsort()   #class 0\n",
    "pos_class_prob_sorted = mnb_bow.feature_log_prob_[1, :].argsort()   #class1\n",
    "print('Top 10 features from negative class:')\n",
    "print(np.take(bow_features_names, neg_class_prob_sorted[:10]))\n",
    "print('-'*50)\n",
    "print('Top 10 features from positive class:')\n",
    "print(np.take(bow_features_names, pos_class_prob_sorted[:10]))"
   ]
  },
  {
   "cell_type": "code",
   "execution_count": 52,
   "metadata": {},
   "outputs": [
    {
     "data": {
      "text/plain": [
       "17587"
      ]
     },
     "execution_count": 52,
     "metadata": {},
     "output_type": "execute_result"
    }
   ],
   "source": [
    "tfidf_features_names = []\n",
    "for feature in vectorizer_sub_cat.get_feature_names():\n",
    "    tfidf_features_names.append(feature)\n",
    "\n",
    "for feature in vectorizer_sub_sub.get_feature_names():\n",
    "    tfidf_features_names.append(feature)\n",
    "\n",
    "for feature in vectorizer_state.get_feature_names() :\n",
    "    tfidf_features_names.append(feature)\n",
    "\n",
    "for feature in vectorizer_grade.get_feature_names() :\n",
    "    tfidf_features_names.append(feature)\n",
    "\n",
    "for feature in vectorizer_prefix.get_feature_names() :\n",
    "    tfidf_features_names.append(feature)\n",
    "    \n",
    "for feature in vectorizer_title_tfidf.get_feature_names() :\n",
    "    tfidf_features_names.append(feature)\n",
    "\n",
    "for feature in vectorizer_essay_tfidf.get_feature_names() :\n",
    "    tfidf_features_names.append(feature)\n",
    "    \n",
    "tfidf_features_names.append('price')\n",
    "\n",
    "tfidf_features_names.append('teacher_number_of_previously_posted_projects')\n",
    "\n",
    "len(tfidf_features_names)"
   ]
  },
  {
   "cell_type": "code",
   "execution_count": 53,
   "metadata": {},
   "outputs": [
    {
     "name": "stdout",
     "output_type": "stream",
     "text": [
      "Top 10 features from negative class:\n",
      "['disappointed' 'shelf' 'vibrate' 'ozobot' 'schedule' 'scheduled' 'owls'\n",
      " 'ozobots' 'generalization' 'gelli']\n",
      "--------------------------------------------------\n",
      "Top 10 features from positive class:\n",
      "['image' 'tactile' 'refuel' 'preventing' 'counters' 'denham' 'rowdy'\n",
      " 'accomplishment' 'side' 'bridges']\n"
     ]
    }
   ],
   "source": [
    "neg_class_prob_sorted = mnb_tfidf.feature_log_prob_[0, :].argsort()   #class 0\n",
    "pos_class_prob_sorted = mnb_tfidf.feature_log_prob_[1, :].argsort()   #class1\n",
    "print('Top 10 features from negative class:')\n",
    "print(np.take(tfidf_features_names, neg_class_prob_sorted[:10]))\n",
    "print('-'*50)\n",
    "print('Top 10 features from positive class:')\n",
    "print(np.take(tfidf_features_names, pos_class_prob_sorted[:10]))"
   ]
  },
  {
   "cell_type": "markdown",
   "metadata": {
    "id": "lS9hIHdib3dp"
   },
   "source": [
    "<h1>3. Summary</h1>\n",
    "\n",
    "<br> as mentioned in the step 5 of instructions"
   ]
  },
  {
   "cell_type": "code",
   "execution_count": 54,
   "metadata": {},
   "outputs": [
    {
     "name": "stdout",
     "output_type": "stream",
     "text": [
      "+------------+-------------------------+-----------------------+-----------+----------+\n",
      "| Vectorizer |          Model          | Hyperparameter: Alpha | Train AUC | Test AUC |\n",
      "+------------+-------------------------+-----------------------+-----------+----------+\n",
      "|    BOW     | Multinomial Naive Bayes |          0.5          |    0.78   |   0.72   |\n",
      "|   TF-IDF   | Multinomial Naive Bayes |          0.1          |    0.79   |   0.66   |\n",
      "+------------+-------------------------+-----------------------+-----------+----------+\n"
     ]
    }
   ],
   "source": [
    "#Summarize your assignment work here in a few points, and also compare the final models (from set 1 and set 2), in terms of optimal hyperparameter value 'alpha', training AUC and test AUC scores.\n",
    "# You can either use a pretty table or any other tabular structure.\n",
    "# Reference Link for Pretty table:  https://pypi.org/project/prettytable/\n",
    "\n",
    "from prettytable import PrettyTable\n",
    "    \n",
    "x = PrettyTable()\n",
    "\n",
    "x.field_names = [\"Vectorizer\", \"Model\", \"Hyperparameter: Alpha\", \"Train AUC\", \"Test AUC\"]\n",
    "auc_set2_train=auc(train_fpr, train_tpr)\n",
    "auc_set2_test=auc(test_fpr, test_tpr)\n",
    "\n",
    "x.add_row([\"BOW\", \"Multinomial Naive Bayes\", bestAlpha_1, round(auc_set1_train,2),round(auc_set1_test,2)])\n",
    "x.add_row([\"TF-IDF\", \"Multinomial Naive Bayes\", bestAlpha_2, round(auc_set2_train,2),round(auc_set2_test,2)])\n",
    "\n",
    "print(x)"
   ]
  },
  {
   "cell_type": "code",
   "execution_count": null,
   "metadata": {},
   "outputs": [],
   "source": []
  }
 ],
 "metadata": {
  "colab": {
   "collapsed_sections": [],
   "name": "6_Assignment_NB_Instructions.ipynb",
   "provenance": []
  },
  "kernelspec": {
   "display_name": "Python 3",
   "language": "python",
   "name": "python3"
  },
  "language_info": {
   "codemirror_mode": {
    "name": "ipython",
    "version": 3
   },
   "file_extension": ".py",
   "mimetype": "text/x-python",
   "name": "python",
   "nbconvert_exporter": "python",
   "pygments_lexer": "ipython3",
   "version": "3.8.8"
  }
 },
 "nbformat": 4,
 "nbformat_minor": 1
}
